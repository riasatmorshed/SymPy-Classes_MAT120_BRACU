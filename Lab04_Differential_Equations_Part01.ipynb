{
  "nbformat": 4,
  "nbformat_minor": 0,
  "metadata": {
    "colab": {
      "provenance": []
    },
    "kernelspec": {
      "name": "python3",
      "display_name": "Python 3"
    },
    "language_info": {
      "name": "python"
    }
  },
  "cells": [
    {
      "cell_type": "code",
      "execution_count": 2,
      "metadata": {
        "id": "yTZwGgkvrF_a"
      },
      "outputs": [],
      "source": [
        "import sympy as sp\n",
        "from sympy import *\n",
        "sp.init_printing()"
      ]
    },
    {
      "cell_type": "markdown",
      "source": [
        "**Solve the differential equation:**\n",
        "$y\n",
        "′\n",
        "=\n",
        "2\n",
        "t\n",
        "(\n",
        "25\n",
        "−\n",
        "y\n",
        ")$\n",
        "."
      ],
      "metadata": {
        "id": "kyktlyxd1PIA"
      }
    },
    {
      "cell_type": "markdown",
      "source": [
        "**Solution:** First identify the dependent and independent variable and define the dependent one as the **function** of the independet. This is a must for the way we are writing the code."
      ],
      "metadata": {
        "id": "2o5Ej1QU1XBb"
      }
    },
    {
      "cell_type": "code",
      "source": [
        "t=sp.symbols('t')\n",
        "y=sp.Function('y')(t)\n",
        "expr2= sp.Eq(sp.diff(y,t,1), 2*t*(25-y))\n",
        "display(expr2)\n",
        "solve2=dsolve(expr2)\n",
        "display(solve2)"
      ],
      "metadata": {
        "colab": {
          "base_uri": "https://localhost:8080/",
          "height": 76
        },
        "id": "l7qKK0XG1SP8",
        "outputId": "799ed705-b213-465a-d389-e77aa836dfe7"
      },
      "execution_count": 6,
      "outputs": [
        {
          "output_type": "display_data",
          "data": {
            "text/plain": [
              "d                         \n",
              "──(y(t)) = 2⋅t⋅(25 - y(t))\n",
              "dt                        "
            ],
            "image/png": "[encoded data removed]",
            "text/latex": "$\\displaystyle \\frac{d}{d t} y{\\left(t \\right)} = 2 t \\left(25 - y{\\left(t \\right)}\\right)$"
          },
          "metadata": {}
        },
        {
          "output_type": "display_data",
          "data": {
            "text/plain": [
              "             2     \n",
              "           -t      \n",
              "y(t) = C₁⋅ℯ    + 25"
            ],
            "image/png": "[encoded data removed]",
            "text/latex": "$\\displaystyle y{\\left(t \\right)} = C_{1} e^{- t^{2}} + 25$"
          },
          "metadata": {}
        }
      ]
    },
    {
      "cell_type": "markdown",
      "source": [
        "**Solve this differential Equations**\n",
        "\n",
        "![CodeCogsEqn.png](data:image/png;base64,iVBORw0KGgoAAAANSUhEUgAAALgAAAAaBAMAAAD2yYsRAAAAMFBMVEX///8AAACIiIiYmJhUVFTc3Nzu7u52dna6uroyMjLMzMyqqqpmZmYQEBBEREQiIiIPBhL7AAAACXBIWXMAAA7EAAAOxAGVKw4bAAACh0lEQVRIDbWVP2gUQRTGv8vd3u1lTQwERVOdprCxOP8VwiFBTCEibEQs5ZI6xYmgpBByqRQsAoHogcUG0oqxtzgMIjZyCKax2cbCLlYKNr6ZnW9mLzsh12SOm/e97/3m3d4wzALHNZZazeNqDczjzHDzalyNhx1vNhK0gW/DiycHkwNxzA+MDxddNhKE6oxboVSpX+oDYSdzx03Mstw8EoTlndyS7Vl046489UOasxT5qLGjIFlQbeWaV/ee4at8gJ/sVW9TuZhhR0AZ/sOtqqWP8Vc+COdoRlYltJBhXsgyRvxyxkQDwX6wD1QSa+5RpRTQmB+yjBLj33HXGVsxys1yE5hw3k3KlAIa80OWUSLYxB9g7OqD8x1g+/etOEAg9g35GlNJPVITDeaHyGB2fukC1lrS9Un4KlQn8gtrT0UY8y29lIKYDyJTa7/odBOVhavBdNQX8UZlashe0FzIHCClIFaAVnp6rAr4HAvND3pBhPKUFtN6lmkDoLkYGzNlEQbzQWR2cIkSlXUlA3vN/FNpZpZU85o80tle77WyLXYQ0kU73bZKDpeM6DQNeSg5DQ01L7bVLCPVs0zEfBAZ5K6shQSJnI8Ba/r8ZWZxz4kVoBW95b1V1SWYQXbpnYgfoSz/vpIqW43PAM13mZN7cmI+iPCn2hSu6eR9ci6+J+pkhzU53DSL55yYDzINopmxU0FDJ8uXw92mqNKOqUH2guYdeikFMR9kmOpu4+UV8lncajOvJ1TYp0opiPkgMsV43VruLnQqYZWYKzlF5mCMOh+dtUlZj6lMzGGHQwfWAPW5defdpyy8iXLY4RBX2xhdTKxG2Mh08R2aww6HXCOvSkxzb5HmCNB/lfGlwj8cO14AAAAASUVORK5CYII=)"
      ],
      "metadata": {
        "id": "rfS6KKp30D1k"
      }
    },
    {
      "cell_type": "code",
      "source": [
        "x=sp.symbols('x')\n",
        "f= sp.Function('f')(x)"
      ],
      "metadata": {
        "id": "DSJVcdf7rOlK"
      },
      "execution_count": 3,
      "outputs": []
    },
    {
      "cell_type": "code",
      "source": [
        "expr1= sp.Eq(x*sp.diff(f, x, 2)+sp.diff(f, x),x**3)\n",
        "display(expr1)\n",
        "solve1= sp.dsolve(expr1)\n",
        "display(solve1)"
      ],
      "metadata": {
        "colab": {
          "base_uri": "https://localhost:8080/",
          "height": 91
        },
        "id": "SKTv7ppssUm4",
        "outputId": "18b6b598-bcdc-419a-f0c5-d5b003eb4d4c"
      },
      "execution_count": 10,
      "outputs": [
        {
          "output_type": "display_data",
          "data": {
            "text/plain": [
              "    2                      \n",
              "   d          d           3\n",
              "x⋅───(f(x)) + ──(f(x)) = x \n",
              "    2         dx           \n",
              "  dx                       "
            ],
            "image/png": "[encoded data removed]",
            "text/latex": "$\\displaystyle x \\frac{d^{2}}{d x^{2}} f{\\left(x \\right)} + \\frac{d}{d x} f{\\left(x \\right)} = x^{3}$"
          },
          "metadata": {}
        },
        {
          "output_type": "display_data",
          "data": {
            "text/plain": [
              "                         4\n",
              "                        x \n",
              "f(x) = C₁ + C₂⋅log(x) + ──\n",
              "                        16"
            ],
            "image/png": "[encoded data removed]",
            "text/latex": "$\\displaystyle f{\\left(x \\right)} = C_{1} + C_{2} \\log{\\left(x \\right)} + \\frac{x^{4}}{16}$"
          },
          "metadata": {}
        }
      ]
    },
    {
      "cell_type": "markdown",
      "source": [
        "#Differential Equations with Initial Conditions/Boundary Conditions"
      ],
      "metadata": {
        "id": "jyv171xS1tQ2"
      }
    },
    {
      "cell_type": "markdown",
      "source": [
        "Solve this differential equation:\n",
        "\n",
        "\\begin{cases} y' = -{y^2\\over x^2} \\\\ y(1)= {1\\over 2}\\end{cases}\n"
      ],
      "metadata": {
        "id": "lTsUE56n2BjF"
      }
    },
    {
      "cell_type": "code",
      "source": [
        "x= sp.symbols('x')\n",
        "y= sp.Function('y')(x)\n",
        "expr2= sp.Eq(sp.diff(y,x,1),-y**2/x**2)\n",
        "solve2=dsolve(expr2, ics= {y.subs(x,1): '1/2'})\n",
        "display(solve2)"
      ],
      "metadata": {
        "colab": {
          "base_uri": "https://localhost:8080/",
          "height": 49
        },
        "id": "PWtbO3Nq1_ne",
        "outputId": "f76f99c4-ef64-4743-84e4-2928777f16c4"
      },
      "execution_count": 8,
      "outputs": [
        {
          "output_type": "display_data",
          "data": {
            "text/plain": [
              "         -x   \n",
              "y(x) = ───────\n",
              "       1 - 3⋅x"
            ],
            "image/png": "[encoded data removed]",
            "text/latex": "$\\displaystyle y{\\left(x \\right)} = - \\frac{x}{1 - 3 x}$"
          },
          "metadata": {}
        }
      ]
    },
    {
      "cell_type": "markdown",
      "source": [
        "Solve the initial value problem:\n",
        "$d\n",
        "y/\n",
        "d\n",
        "x\n",
        "=\n",
        "2\n",
        "x\n",
        ",\n",
        "y\n",
        "(\n",
        "0\n",
        ")\n",
        "=\n",
        "2$\n",
        "."
      ],
      "metadata": {
        "id": "4eTA8gxJ2L8k"
      }
    },
    {
      "cell_type": "code",
      "source": [
        "y=sp.Function('y')(x)\n",
        "expr3= sp.Eq(sp.diff(y),2*x)\n",
        "solve3=sp.dsolve(expr3, ics={y.subs(x,0): '2'})\n",
        "solve3"
      ],
      "metadata": {
        "colab": {
          "base_uri": "https://localhost:8080/",
          "height": 39
        },
        "id": "P2Je-qg72Ovb",
        "outputId": "be21c841-599a-449b-d2b7-3628ed28c3bb"
      },
      "execution_count": 9,
      "outputs": [
        {
          "output_type": "execute_result",
          "data": {
            "text/plain": [
              "        2    \n",
              "y(x) = x  + 2"
            ],
            "image/png": "[encoded data removed]",
            "text/latex": "$\\displaystyle y{\\left(x \\right)} = x^{2} + 2$"
          },
          "metadata": {},
          "execution_count": 9
        }
      ]
    },
    {
      "cell_type": "markdown",
      "source": [
        "![CodeCogsEqn.png](data:image/png;base64,iVBORw0KGgoAAAANSUhEUgAAALgAAAAaBAMAAAD2yYsRAAAAMFBMVEX///8AAACIiIiYmJhUVFTc3Nzu7u52dna6uroyMjLMzMyqqqpmZmYQEBBEREQiIiIPBhL7AAAACXBIWXMAAA7EAAAOxAGVKw4bAAACh0lEQVRIDbWVP2gUQRTGv8vd3u1lTQwERVOdprCxOP8VwiFBTCEibEQs5ZI6xYmgpBByqRQsAoHogcUG0oqxtzgMIjZyCKax2cbCLlYKNr6ZnW9mLzsh12SOm/e97/3m3d4wzALHNZZazeNqDczjzHDzalyNhx1vNhK0gW/DiycHkwNxzA+MDxddNhKE6oxboVSpX+oDYSdzx03Mstw8EoTlndyS7Vl046489UOasxT5qLGjIFlQbeWaV/ee4at8gJ/sVW9TuZhhR0AZ/sOtqqWP8Vc+COdoRlYltJBhXsgyRvxyxkQDwX6wD1QSa+5RpRTQmB+yjBLj33HXGVsxys1yE5hw3k3KlAIa80OWUSLYxB9g7OqD8x1g+/etOEAg9g35GlNJPVITDeaHyGB2fukC1lrS9Un4KlQn8gtrT0UY8y29lIKYDyJTa7/odBOVhavBdNQX8UZlashe0FzIHCClIFaAVnp6rAr4HAvND3pBhPKUFtN6lmkDoLkYGzNlEQbzQWR2cIkSlXUlA3vN/FNpZpZU85o80tle77WyLXYQ0kU73bZKDpeM6DQNeSg5DQ01L7bVLCPVs0zEfBAZ5K6shQSJnI8Ba/r8ZWZxz4kVoBW95b1V1SWYQXbpnYgfoSz/vpIqW43PAM13mZN7cmI+iPCn2hSu6eR9ci6+J+pkhzU53DSL55yYDzINopmxU0FDJ8uXw92mqNKOqUH2guYdeikFMR9kmOpu4+UV8lncajOvJ1TYp0opiPkgMsV43VruLnQqYZWYKzlF5mCMOh+dtUlZj6lMzGGHQwfWAPW5defdpyy8iXLY4RBX2xhdTKxG2Mh08R2aww6HXCOvSkxzb5HmCNB/lfGlwj8cO14AAAAASUVORK5CYII=) with the initial conditions\n",
        "\n",
        "![CodeCogsEqn(1).png](data:image/png;base64,iVBORw0KGgoAAAANSUhEUgAAAGkAAAAzBAMAAABmuTuYAAAAMFBMVEX///8AAADMzMxUVFSIiIiYmJju7u4QEBB2dnZERETc3NwiIiJmZmYyMjK6urqqqqoDZW3kAAAACXBIWXMAAA7EAAAOxAGVKw4bAAAC3ElEQVRIDc1VPYgTQRT+ktwluSSb3CH+Imq4wsIm6BXqiW4jXpEighYWQlKdiEXA4zphhVNPUEgjIhbu1dd4nSLCoTYWatBWZQ8FLRUFLf3ezGazO7s5EkHwQWbfvPd98/Nm5guQaAUdTScmBwa/+ixnIMJITJ8ECh0ge5wJ+qbN1T0zRPDiDWDCReb5HiatponI2HhgxoB85xrwifG0sCo1E7EBfDFjQM5m7CB/ioVFE/EKSHlmEFWXoTZ/mjVjAi6T5ZjB6bVDLsZZDJ91zgTsBoqSjhpXgLzDRs+1P5pFVlhdIwi8Z4R16rFWFOD2B2UeS5zM2kqY1QhYLZdu2MjKxeYqSL2L39joFabcMIU+WamOEUNlGyPhuZoGIrGGY22iNtkXWK2WZ4yEjMxectjoFR4wAbwbv8wYikJQ51WWuiB2XhkHHyURsZQUojDJM5vdfozuiUhWOnN1gUSt2pT+2yD4MPA2c86r5I8eJH7ne5nQt+K8UL3gWVluKDvItWpdlSrUfETCW45zK/V9OvhZf9KO/g7Z+uI0okYNOfj/D7v4V0u8S9bo4s4nitHEPT3TKO9S4p69dY8XOuFCjC29Nrcwf6Fd6ihxv4QyJw1uYR84gwkOF7Gb+UbRU+J+HbjqJYh7eRLldoQDLACrDFHcnwAbDuLiXuoCIl4hS3NPZ9nnYPeB6joQE/dcDdgRolBVZrccheuLBXC6kSAWKQ71OMKCTE9T4g7IwZnijtY68FRAfbPWla9EEBVZvinuSawU10RTgot56cTEXVZ4RUB9W/GUr8Qdd8SPibuwdipU0HxvKlfNlbfFbzWlDVm8hjil02pfZwAuMbYvFixrnNcRzRJxL9vI2kBM3Hk3Km0N67WPtCPivrq8/NJLOC8chsV42Pbqjoj72tTUlJsk7mNLb8IU3g35nxMbSdzHu5qEUcT9d8n2WcGzGkLc31k+CaOI+89nPRb+tbj/AR85nI+x4vi3AAAAAElFTkSuQmCC)"
      ],
      "metadata": {
        "id": "2Vwo0gfh2Ya8"
      }
    },
    {
      "cell_type": "code",
      "source": [
        "x= sp.symbols('x')\n",
        "f= sp.Function('f')(x)\n",
        "expr1= sp.Eq(x*sp.diff(f,x,2)+sp.diff(f,x),x**3)\n",
        "display(expr1)\n",
        "\n",
        "boundary={f.subs(x,1):0, sp.diff(f,x,1).subs(x,2): 1}\n",
        "solve=sp.dsolve(expr1, ics=boundary)\n",
        "solve"
      ],
      "metadata": {
        "colab": {
          "base_uri": "https://localhost:8080/",
          "height": 91
        },
        "id": "trctPmtg1xik",
        "outputId": "70a47609-586e-4c54-9874-aff9b4421a53"
      },
      "execution_count": 7,
      "outputs": [
        {
          "output_type": "display_data",
          "data": {
            "text/plain": [
              "    2                      \n",
              "   d          d           3\n",
              "x⋅───(f(x)) + ──(f(x)) = x \n",
              "    2         dx           \n",
              "  dx                       "
            ],
            "image/png": "[encoded data removed]",
            "text/latex": "$\\displaystyle x \\frac{d^{2}}{d x^{2}} f{\\left(x \\right)} + \\frac{d}{d x} f{\\left(x \\right)} = x^{3}$"
          },
          "metadata": {}
        },
        {
          "output_type": "execute_result",
          "data": {
            "text/plain": [
              "        4                \n",
              "       x               1 \n",
              "f(x) = ── - 2⋅log(x) - ──\n",
              "       16              16"
            ],
            "image/png": "[encoded data removed]",
            "text/latex": "$\\displaystyle f{\\left(x \\right)} = \\frac{x^{4}}{16} - 2 \\log{\\left(x \\right)} - \\frac{1}{16}$"
          },
          "metadata": {},
          "execution_count": 7
        }
      ]
    },
    {
      "cell_type": "code",
      "source": [],
      "metadata": {
        "id": "AJYKIY1Aufte"
      },
      "execution_count": null,
      "outputs": []
    }
  ]
}