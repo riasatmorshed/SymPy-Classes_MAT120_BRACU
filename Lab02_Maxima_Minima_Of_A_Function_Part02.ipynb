{
  "nbformat": 4,
  "nbformat_minor": 0,
  "metadata": {
    "colab": {
      "provenance": []
    },
    "kernelspec": {
      "name": "python3",
      "display_name": "Python 3"
    },
    "language_info": {
      "name": "python"
    }
  },
  "cells": [
    {
      "cell_type": "markdown",
      "source": [
        "# Determining maxima-minima of a Polynomial within a given interval\n",
        "\n",
        "This code looks for imaginary number and then append the roots to the list. Afterwards, it checks if the elements of the list is within the interval with the help of if-else statement."
      ],
      "metadata": {
        "id": "zqsyNUERfEwP"
      }
    },
    {
      "cell_type": "code",
      "source": [
        "import sympy as sp\n",
        "from sympy import *\n",
        "init_printing(pretty_print=True)\n",
        "\n",
        "x,y,z=sp.symbols('x y z')\n",
        "\n",
        "expr1=x**4-2/3*x**3-2*x**2+2*x\n",
        "\n",
        "diff1=sp.diff(expr1,x)\n",
        "diff2=sp.diff(diff1,x)\n",
        "check1=sp.solve(diff1,x)\n",
        "\n",
        "soln=[]\n",
        "for i in range(0,len(check1)):\n",
        "  if im(check1[0])!=0:\n",
        "    continue\n",
        "  else:\n",
        "    if (check1[i]>=0 and check1[i]<=3):\n",
        "      soln.append(check1[i])\n",
        "    else:\n",
        "      continue\n",
        "\n",
        "if len(soln)>0:\n",
        "  for k in range(0, len(soln)):\n",
        "    maxmin1=diff2.subs(x,soln[k])\n",
        "    if maxmin1<0:\n",
        "      max=soln[k]\n",
        "      maxval=expr1.subs(x,max)\n",
        "    elif maxmin1>0:\n",
        "      min=soln[k]\n",
        "      minval=expr1.subs(x,min)\n",
        "  print(f\"Maxima is {maxval} and Minima is {minval}\")\n",
        "else:\n",
        "  print('No maxima or minima is found')"
      ],
      "metadata": {
        "colab": {
          "base_uri": "https://localhost:8080/"
        },
        "id": "PJKpf-DuKb9h",
        "outputId": "5b54a6ea-51b1-4736-9d3a-213321b3fad5"
      },
      "execution_count": 3,
      "outputs": [
        {
          "output_type": "stream",
          "name": "stdout",
          "text": [
            "[-1.00000000000000, 0.500000000000000, 1.00000000000000]\n",
            "Maxima is 0.479166666666667 and Minima is 0.333333333333333\n"
          ]
        }
      ]
    },
    {
      "cell_type": "markdown",
      "source": [
        "# Determining maxima-minima of a Polynomial within a given interval using solveset() Function"
      ],
      "metadata": {
        "id": "VLmJ7_pUiYZF"
      }
    },
    {
      "cell_type": "code",
      "source": [
        "import sympy as sp\n",
        "from sympy import *\n",
        "init_printing(pretty_print=True)\n",
        "\n",
        "x,y,z=sp.symbols('x y z')\n",
        "\n",
        "expr1=x**4-2/3*x**3-2*x**2+2*x\n",
        "diff1=sp.diff(expr1,x)\n",
        "\n",
        "\n",
        "check1=solveset(diff1, x, Interval(0, 3))\n",
        "check1=list(check1)\n",
        "# check1=solve([x >= 0, x <= 3,sp.diff(x**4-2/3*x**3-2*x**2+2*x)], x)\n",
        "\n",
        "diff2=sp.diff(diff1,x)\n",
        "soln=[]\n",
        "for i in range(0,len(check1)):\n",
        "  if im(check1[0])!=0:\n",
        "    continue\n",
        "  else:\n",
        "      soln.append(check1[i])\n",
        "\n",
        "if len(soln)>0:\n",
        "  for k in range(0, len(soln)):\n",
        "    maxmin1=diff2.subs(x,soln[k])\n",
        "    if maxmin1<0:\n",
        "      max=soln[k]\n",
        "      maxval=expr1.subs(x,max)\n",
        "    elif maxmin1>0:\n",
        "      min=soln[k]\n",
        "      minval=expr1.subs(x,min)\n",
        "  print(f\"Maxima is {maxval} and Minima is {minval}\")\n",
        "else:\n",
        "  print('No maxima or minima is found')"
      ],
      "metadata": {
        "colab": {
          "base_uri": "https://localhost:8080/",
          "height": 55
        },
        "id": "lAGV-fj2M4ZS",
        "outputId": "579935a7-8802-4047-fb23-f2fe5f4520c4"
      },
      "execution_count": 5,
      "outputs": [
        {
          "output_type": "stream",
          "name": "stdout",
          "text": [
            "Maxima is 0.479166666666667 and Minima is 0.333333333333333\n"
          ]
        },
        {
          "output_type": "execute_result",
          "data": {
            "text/plain": [
              "{0.5, 1.0}"
            ],
            "image/png": "[encoded data removed]",
            "text/latex": "$\\displaystyle \\left\\{0.5, 1.0\\right\\}$"
          },
          "metadata": {},
          "execution_count": 5
        }
      ]
    },
    {
      "cell_type": "markdown",
      "source": [
        "# To Assess Trig Function using solveset()"
      ],
      "metadata": {
        "id": "nxl27QowjLBl"
      }
    },
    {
      "cell_type": "code",
      "source": [
        "import sympy as sp\n",
        "from sympy import *\n",
        "init_printing(pretty_print=True)\n",
        "\n",
        "x,y,z=sp.symbols('x y z')\n",
        "\n",
        "expr1=sp.sin(x)\n",
        "\n",
        "diff1=sp.diff(expr1,x)\n",
        "#The most important line for the interval\n",
        "check1=sp.solveset(diff1,x)\n",
        "#The following block is for converting the set to a list. However, you may use list() function as well. \n",
        "display(check1)"
      ],
      "metadata": {
        "colab": {
          "base_uri": "https://localhost:8080/",
          "height": 58
        },
        "id": "W28zuqkajKnX",
        "outputId": "a03a5d00-6d32-411d-c259-8750d7bb3f3b"
      },
      "execution_count": 7,
      "outputs": [
        {
          "output_type": "display_data",
          "data": {
            "text/plain": [
              "⎧        π        ⎫   ⎧        3⋅π        ⎫\n",
              "⎨2⋅n⋅π + ─ | n ∊ ℤ⎬ ∪ ⎨2⋅n⋅π + ─── | n ∊ ℤ⎬\n",
              "⎩        2        ⎭   ⎩         2         ⎭"
            ],
            "image/png": "[encoded data removed]",
            "text/latex": "$\\displaystyle \\left\\{2 n \\pi + \\frac{\\pi}{2}\\; |\\; n \\in \\mathbb{Z}\\right\\} \\cup \\left\\{2 n \\pi + \\frac{3 \\pi}{2}\\; |\\; n \\in \\mathbb{Z}\\right\\}$"
          },
          "metadata": {}
        }
      ]
    },
    {
      "cell_type": "markdown",
      "source": [
        "# To Assess Trig Function in a Given Interval using solveset\n",
        "\n",
        "As it is evident from the previous block that the solution returned by \"solveset()\" is just a symbolic statement; not a regular numerical value. Since critical points for a trig function, like, sin(x) is infinite, hence, solveset() function is not as useful of a tool here. However, there's a way out- which is, setting another parameter in the solveset(), called, \"Interval\"."
      ],
      "metadata": {
        "id": "jPdaArrbxMe2"
      }
    },
    {
      "cell_type": "code",
      "source": [
        "import sympy as sp\n",
        "from sympy import *\n",
        "init_printing(pretty_print=True)\n",
        "\n",
        "x,y,z=sp.symbols('x y z')\n",
        "\n",
        "expr1=sp.sin(x)\n",
        "\n",
        "diff1=sp.diff(expr1,x)\n",
        "#The most important line for the interval\n",
        "check1=sp.solveset(diff1,x,Interval(2*sp.pi, 4*sp.pi))\n",
        "#The following block is for converting the set to a list. However, you may use list() function as well. \n",
        "solution=[]\n",
        "for i in check1:\n",
        "  solution.append(i)\n",
        "\n",
        "diff2=sp.diff(diff1,x)\n",
        "for k in range(0,len(solution)):\n",
        "  maxmin=diff2.subs(x,solution[k])\n",
        "  if maxmin<0:\n",
        "    max=solution[k]\n",
        "  elif maxmin>0:\n",
        "    min=solution[k]  \n",
        "\n",
        "maxval=expr1.subs(x,max)\n",
        "minval=expr1.subs(x,min)\n",
        "print(f\"Maxima is {maxval} and Minima is {minval}\")\n",
        "print(max, min)"
      ],
      "metadata": {
        "colab": {
          "base_uri": "https://localhost:8080/"
        },
        "id": "cl40hpCQR3Nm",
        "outputId": "d2bde524-ed65-44c8-b5c0-4b0aebd49e1a"
      },
      "execution_count": null,
      "outputs": [
        {
          "output_type": "stream",
          "name": "stdout",
          "text": [
            "Maxima is 1 and Minima is -1\n",
            "5*pi/2 7*pi/2\n"
          ]
        }
      ]
    },
    {
      "cell_type": "code",
      "source": [],
      "metadata": {
        "id": "QTYy55OOqDBl"
      },
      "execution_count": null,
      "outputs": []
    }
  ]
}