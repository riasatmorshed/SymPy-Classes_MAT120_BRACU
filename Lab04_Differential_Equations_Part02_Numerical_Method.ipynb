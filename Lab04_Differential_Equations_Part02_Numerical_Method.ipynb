{
  "nbformat": 4,
  "nbformat_minor": 0,
  "metadata": {
    "colab": {
      "provenance": []
    },
    "kernelspec": {
      "name": "python3",
      "display_name": "Python 3"
    },
    "language_info": {
      "name": "python"
    }
  },
  "cells": [
    {
      "cell_type": "markdown",
      "source": [
        "# Importing Necessary Libraries\n",
        "\n",
        "Since we will be solving differential equations using numerical methods, hence, \"SymPy\" won't be required. However, we will be NumPy since we will be using numerical expressions to define our mathematical functions. Additionally, our output will be in matrix form. So NumPy is a MUST! \n",
        "\n",
        "Most importantly, we will be solving the differential equations(First order first degree ODE), with the help of SciPy's \"*integrate*\" module and its \"*odeint*\" solver."
      ],
      "metadata": {
        "id": "hHjEDhMI6njY"
      }
    },
    {
      "cell_type": "code",
      "execution_count": 2,
      "metadata": {
        "id": "WYouEk1_k_Wc"
      },
      "outputs": [],
      "source": [
        "import numpy as np\n",
        "from numpy import *\n",
        "# import sympy as sp\n",
        "# from sympy import *\n",
        "import scipy\n",
        "from scipy.integrate import odeint"
      ]
    },
    {
      "cell_type": "markdown",
      "source": [
        "So the workflow for solving this equation is as follows: \n",
        "\n",
        "\n",
        "1.   First, rearrange the given function in a way that looks like:\n",
        "$dy/\n",
        "dx\n",
        "= f(x,y)$\n",
        "\n",
        "2. Upon rearranging, the right hand side of the equation will be input through the \"*odeint*\" function. \n",
        "3. Define the independent variable as per the question (MUST be in a list, even though it's just a single number. However, it advised that even though it's a single number, take at least 3-4 numbers in that list as you like.)\n",
        "\n",
        "\n",
        "\n"
      ],
      "metadata": {
        "id": "j8t_ip1p-XVF"
      }
    },
    {
      "cell_type": "markdown",
      "source": [
        "# Problem 1\n",
        "\n",
        "![image.png](data:image/png;base64,iVBORw0KGgoAAAANSUhEUgAAA6QAAAC+CAYAAAAiGsK9AAAgAElEQVR4Xu2dPU8sPZTnz8033I9wIUB8giYdaXUhIUKTdTAjOoSEaJBWM+qJOqFD0ExANiIiodGmK0GwySaIgO7vseHdY1e5ylXl93pt+BM9z+0q+/jnY5f/fjn+9Zf/CH8gAAIgAAIgAAIgAAIgAAIgAAIgMDCBXxCkAxNHdiAAAiAAAiAAAiAAAiAAAiAAApIABCkcAQRAAARAAARAAARAAARAAARAYBQCEKSjYEemIAACIAACIAACIAACIAACIAACEKTwARAAARAAARAAARAAARAAARAAgVEIQJCOgh2ZggAIgAAIgAAIgAAIgAAIgAAIQJDCB0AABEAABEAABEAABEAABEAABEYhAEE6CnZkCgIgAAIgAAIgAAIgAAIgAAIgAEEKHwABEAABEAABEAABEAABEAABEBiFAATpKNiRKQiAAAiAAAiAAAiAAAiAAAiAAAQpfAAEQAAEQAAEQAAEQAAEQAAEQGAUAhCko2BHpiAAAiAAAiAAAiAAAiAAAiAAApMTpLvXNb08P9H1A9Hd9o2ufndcSbtXWq+W9MTpX9TTd/3WsRlIbkgCO1qfHND1+4wuN290/2fIvA15/XAf7L2Nj1y9vWTfU9/0c+piYn1AxUmmbFsv3vytEk1rQ6jzb+UEKAwIgEBrAp0J0t36hA6uj2nz955Sx/uvi1+0ZKH4Los1616Q7tZ0cnBtTt/1W2vMfSSwo93rlsX7Mz19PHCZ7mj7dkUu/b57XdCcAb9ngBkxC7TbRxZo9rd2a36HZwdUnVxu3M+LZP3vqI+xmcvsbktv+UyE8IlT9onG38xf3vKdCX38v5UPxvt172083qTpv9FT3/Sz6mJCfUDD46Zs2/Sbx5gWprch1PmY9Ya8QQAEpkegI0H6SotfpyR0w+Xmb8sVKJVWD4JU8nel33feVQd4XZzQ103KKrD4mM3p8/iYPh5ysegRaCKv0welRGuOeLmhv4Zlw0wMcj2wCL1i0Spmguen12LpuhCMdZeOe2dHr+s5nV5ndl1utmZxzEL6hFWpfGp2SZtHnvToeuV80LY5HR8ctNhFZuntLL3NjFPS7nJNZ+a2oa90uys5UhqWwM9tY6mc97MNtannNu+mUv6O74Hjd6xVlCmVQCeCNFsdzcWORdyEG9h35z4VMSDsWNJRy23JBXuXIGVB9+v0gwWftrrJWwAXc55EyKtNX5UUdaXStf27aeIh5R3OKF+1ZqFpW12X9j9Q3ZZwn5rak1PxwbG4pLbxbtrMWKVul28qM1+ufaXryxe/T5PAT25jqTWyj22oTT23eTeV8Xd8Dxy/Y62iTOkEOhCkarWO6EGqG4ewCLKz7859GmKgWEkcQJDaZ+G0rbMVQasYGerSKiBT3pHK1y1I899dq7JBbjWph6bhg+MhSWvjXbWZ8crdJuc0Zv4c+0rXnzOemB6Bn93GUutj/9pQm3pu824q4e/4Hjh+x1pFmdoQaC9IxerV8oi2j0Tz/Hxmu227fXfu44uBckW5/bZk/wopl3dBdG+J5GN6351mKWL1ek55RzquS5DmW3WPbVt523j+qO+O74OjFt+5bd5sWZdtZtyyp+beV7/YV7qp5cR7YxFAG0slv19tqE09t3k3le53fA8cv2OtokxtCbQWpGKW5/k8OzdaBKCJCjhTL0K1cz/bVgPxzHhL8CNn1jxCyOcRF3MOivSeB+AR6c74yOFt7fk+xYDPhmw1+bqIKqSVPZGZX5B6XCTfDsv7eYtzpEU9Grdfa6uqLd9xCVIZgIm3GR93ERVXRCh94eBPHJzp2HDGWZyNXS2vs+3LfEb17vaGzr5W9HJ2Hxnl2Vf/qi7a+mAznxnbfVs5W2sKHFWueJuCRRknGKTJ2sRJEe21bGezyzu6vbmynOut2SrPAJ/T84E4cx4yIRPTZkK4xHaZ4pzzipZFYC8RC6zOWqWZkn/oO10MelPqIsS+bn3t9j8u6L//Hy3SOk9giMjo1/n5AuFvj/fuAG6NWnb0AY0oqV3kR6F9gZiUs/dPyrYnLrvsuw7WfNQi66vCOfhsiWljrvbjyyd7tx/eMuWgMUBM/pVvA/dXl3d87KUR+j9hzOL5JuWg8hsB7H1tTFkEn/TxR8S7Ad+IGLtD6qCe3tlW+6bLz7qlzwiwVfdZdzsM8T8Xx1v6F1rSvxehPvTvY72PLX+L6iMCyxv7lcTzINAFgXaCVK5ufdKtOvunxE3QQNNmftm5z2bHdMHiQATUyT42B1nE1YZ443dOxHlIFhNbJSK4AfPz4voYXWz1F9QowoZiVTBkQO6u5raCNHtfv2JH8ReYzcGLmhMPKe/k5TKskDZtauHqlQilhqBb+flaFbhJDWqEn8VdOxRR/20Ca6ny8GTANp+YUcGmpJ6u1JkeNMq8/XrBlS+bCL/XGGip9s1tKmuCor0/8cBYnUWupa+eK6or9wtur5vHTLBKW5dPHEpbDLIi/N/XZqK4BPpTfs7647icBMsmSkSArdoVQin5R73TVpAm1EWUfd342v/4xwf6X/9VRlq/vLsg+jykG+nr2YBPBmeLiVXg6APqUVI7yU+079DvUbBtXGQeVB+dn9HVwTY7/y+Ox7z5otqn2BLRLvW2HlDmfngLI8LK2YiKu2H/+jqks6vMv7LrwWSHSJujT3o+vMkC7YmBPDMXvzV3gEWOWXzfJKmA/H0traq3EgT7rq8vdc45qCM2Fh9JsPuuZR00feqYS8D1JicOHOPGAFtF1VfTt7VDnmQN8P8CrasO+Lfsu2xgXHvvsOIDnj4isLyBX0c8BgKdE2glSGVDPdJFi1+Y+EvgGniVHwx94F2IsvogxbgdtO3qlLkEUTa0+SDUsm8nSHOePOAuo+z667A/QXpDPNKSkw5xYtDnVWWZ6oMJWRaqRxnOZjHpMTwCclT9JwvSvL5MV/xog5xqGcvrBUxMVV2aJh+q7TtjyJGnGlG0zSvqKl+DEE6ZuHK2mRQugT7TmPwynbtOyT/2nTaCNKUuYu2To+jivt8ufC2bS6xF3vadObdWq70PKCcpu8kvri/IxZQ1Sn1pd5QIL+b78oCDId/GFt+luDLrddFN/Ublb+0rha7NAuiZrp2z5uHsz81jlqrP1fvUmL42gWWLei6P2JgEaYTdvdWBKVq/qQ4ibJVtyd0Oo/yvmHAQVxDaOZp3EJm+AyF9RGx5fd9H/A4C3RNoIUiFgz/TeS0yavttu56BV/HB0Aa6+VlDvp+EryPRbkE1drz9CFLxIRNXkwTZ0OaD0KUgVauDlcBKYwlS3l4941Wz7G6XjgWp+dyrawAt7lKN2rIbU/+JgtQWxVi5hK3t2QdSZTTlZjCyavt23jNsGsS5IiOn+L/jnVQuru5UpWk8D5/bIgTCG6/cpeQf/04LQZpQF/H2ZTS78LV+drHY+gB9sBk7OLR4UFRfoAt50+qby+6AAUGMLSntsux8wr9/if2fs7Qx5XTl75rwUP2caYeWnFCwfLdMYxZtNbbex8T1tQnjmTb17O2HLXfRN74RDrsHqIMDuTMs1FZfG80mMoLHf50LUn8fEedTAf0KHgGBHggkC1Lp4J+3zfsri44n9U5Sz8ArqDOtn/vSPxQJHXgSeIcNQWUIyzR9hdQ2YzaWIOXt1huiJ3XfqNwSqV1TE4bD8pS9wy7PUprOG7fJtGsf9H90rLP71g+8qOslfeQTAZWBkWjHz+d5+zadETSxKduZ4moOcJYgrqxtpgUXa/W6V/qqr6Xkn/JOArPc0Pi6SLEvz6y1r/UgEDOpXGzHdG25bK7spnMv/cTVF/hsC6iLqG5qmO+S3CpZOXs99Dc4Mf8+xJCx7/JNkvoqVfFMGM+0GX8E9MNuywPs7r0OZATObGu28898hjMsaKenzTvrILZOfX1E/PfbRwa/g0AfBBIFaaCDx5zzKUrnGwC4ZtZU8AtxiJ2DGZ1/8Xmv+raI2MYeiT0/NC7OrlptaPNBqJmTKkjFVTDLo0deUa6Hh4oQpEX9prxjGcBqW3nEE/YgVjH14hmMyrMfZXruID2efEPqP2mFQN+a1dw2m425bed7LOUXs7pfN/RI8+we4VqQKhWsrBzMh17p1KIN2/Bay9aGizUz59bT6lsp+bd5J3b3QEpdpNinqLT1NZFOH330CII0qC8YSJCG2NLFdykkn17qV31PWo4B+hBDxvL6BGkXfa2lHbWpZ+83pgO7e68DJUhDbfW1Ue2LEOT/rm91Sv8XKkhjyhszvsKzINANgTRBqq56eTNHOixDWqc0gJQBVLlVrCJghtyyK/uY7LyO14Y2H4QOBKmwc86r22K7YfNPm2zwRNktzx2mvGMRpLLvZx8QQTuUSEyMQFyWzd9h1yOppmwbDq7/pAGZX/Q7z/c0oikLJuqcrEpbtdfqdl3f2cCmD6W1YWeXFiBIbUG43OeeTLn6/EV/J6Ve2rwzrCBNYtrK11IGZCEfw2EFaXhf4BvsxviimUOwLS2/S8H5JPV//jruJP/exZCKS+ATpKHtPGHypk09ewVpB3b3XgdKkIba6mujmW+G+99YgjSmvP72hidAoGsCSYJUv+rFaJC2yhW2vcE0wHNFcROrnqXY9R8o73+7UJQNbT4IbQWpWBXjrZjmq3OqHWszmrE+WKxuyXav1DpWXKwfHy2ipjSL67sRxTW0OYQO6nashVd5FFVOO0IIR9V/0oDMJ/r1j5xpIqgmOnM/UJMSlW2dpG/XrX6MrQJFusaa1gdXfFWOb4XNJ1gN9eodCAkXqQenytNxDXDMHZgWbdOSpizvgsvLgbjU9q/g/FPqMoGZLFtKXaTYZ+rDcz+M8jXd5o7OdErThhOkcX2Bz7bQvsvcF0bZ0uK7FJVPUv/n7us7y78PMWRM0ydI7VHus2Zd72sj2kqLeg7ZhRP3jXBFknUExIs9x1v4nEjzhr7yaMphtvraqOPsvI31SFt2w8sbOrbCcyDQHYF4QSoaklxYcd0Dpw1oIgb1WbE8A69GgA7HB3uwFdJIG9p8EGp1H7VlVwwMl0fWutvtdvT7twhxr7Z+mq8KOeGQ5O/1ek15R/bzjrzkz3mUSFnu2lUbwe3AXj+viwXRfe3qBLFCK+/JDF3hj6z/xAGZd+dBY2WqCqgUnVs6f57T140WRVgL2HF3fE2f+d3CKoVK3saJAcFgRYf5NRTuu2wTxJWjzbTlYnKjMk3brHJZ3ixAhrwrggc7hms4DPUSb3MCs7xgKXURb193vrbfW3Zj+wLfYLeNII20Jfm7FJlPYv9n7+47zL8PQWoMKma3Oa6vncoKaS1Anvcb4bC7xzpQk5ZxjFu00UkI0ti6CR5Y4UEQ6JRAtCBtXvVisSc5uJGrg1WduD7w6/Bj5BPDVvRd2hBXv8GC1ClGeWWQA1DM+e4udaZUpWuOAMjr04brP1Le8QnSbI5CheJXojQ22JFLkNavLtI/PtMSpPpql2mmM+PvuDKnEJ0cwIkuahMT2iSSSVhpux6yiQG9DvILwUnbBm6KvFuqW77P1Bby3ub/IQMv86qCl4sxy3Jl0Vje9ZyWxbZ39xZcc/6x76QLUtdVFvYVj1j7ahDb+FrngsU3oAzxrdDtbrHfAp9tAwrSSXz/Uvw8lvmQYsg0ZvHUeVRfm+K7KYxV+w5hZ/pO178RIemkrJCavwHZpJzWhqMYt2ij3qMmpn4lxJ/1HWoBfUR0eePGoXgaBLogECVIxaXwBxwF1bnsn1tVXdmK2W6pD4y5sfLA90rcTqy2XInB8iOvQmixeMpIqWU+8gL75QdfIyJWLrJGf/aypi3fmbz8BzEYFndf8x1oelAffatx/TcP7Sgbzs7oK9/ml92zR7RevNDZvWvV2WSAdumzY0urqjd3Eeodo/YhzWc7/fUf+46IRMf3jubh7hp3DhYG88erEXhoQ483fJl5PSaTEZNahW1+rMp7ODk9eTm6OMIa7ufFZ1p+8MT/9eyDmo/OOCxx1eYPFopvjXtCSyTu7ZvWbW9lIWVoe2NwwhmXO18dLXWnWjnU2rFYfV5xZF8+IFwcEebVdveOi/qAwNBmWnGxtIw8lH9QeVPyj3mnRd8k6RWruBF1EWNfA2ELX6tMZtbuqeStiicyUJ1nS2PdnkpZ9Luz+cGO84v7FlzRH7L3T+WEQWR58/LH2ZL+XYrK57990uk/y86yec9sYv3G5P+/Of9/suRfbSe8g0QLs/DKbSj7Vtm+laJEYWMWb72G9j1JvqsLmNjxh+fdQLv1MUn9u59WB7YJxHKM0Ri3BtoqHdXVf8guJOL7f8Zt/rebY3OhIVs0WNER0fU1797K/mbi2ymPxAb0iTHltXwS8c8g0CeBQEGqi0RljmsrmyWkdkTU3R1/mFbLJw5sUwxbWUDe0k0uGqpQaucNeXB8d3sjPybr/KwARxqizb8dFWK0KAULT7kqWJlByhu7+i2oBgJtUGJa6xxEVNfHSDFadoB146qzimFiVI7uaNvYhp115kv+CGfXgyquLhUY8o7Jn8pyVD4cldXRZkV4J0c89fq6XtPB1RltF1xOJZJm7Nu3aiIkqPLFF4s/SiyuVSSmPn2wiORXSqXQyMDyQ/d0Yajr8qN7bFj9Lig08nZfl5NNDLGIzU3NfP2QVnxv3wczurg4pzNjmzZw97WZFlystWwor7UfSsk/5J3WfVNWuqS6CLHPAi/e12z9QvXcVzW7gF0MVn7a96GSaMv8QvsC8S3QxGj9m2Tr4719XqUsgf1S6+9SSD7/SJf/77/o4f+avlnlub7o+s28O6D/teQvv31Zn6QG+oUNYsxy85Xv6KjZXRvPBI9ZQtuzs69t2VZ8fanrs+d7N8Xu1nWgrbhubulzqQdFdIxbAr5nYe0wxP9qiykejuImBH08kS3EZOVU3076PCVxo0P9zx6MTkWhLsfV8jYIXhUJmdsPHQ3hORBIIRAoSFOSxjsgAAIgAAIgAAIgAAIg0CeBNtuQ+7QLaYMACIQSgCANJYXnQAAEQAAEQAAEQAAEJkYAgnRiFQJzQCCaAARpNDK8AAIgAAIgAAIgAAIgMA0CEKTTqAdYAQLpBCBI09nhTRAAARAAARAAARAAgVEJQJCOih+Zg0AHBCBIO4CIJEAABEAABEAABEAABEYgoEVnbtyeMII5yBIEQCCeAARpPDO8AQIgAAIgAAIgAAIgMCoB/boX3ZCA6Nuj2o3MQQAE6gQgSOETIAACIAACIAACIAACIAACIAACoxCAIB0FOzIFARAAARAAARAAARAAARAAARCAIIUPgAAIgAAIgAAIgAAIgAAIgAAIjEIAgnQU7MgUBEAABEAABEAABEAABEAABEAAghQ+AAIgAAIgAAIgAAIgAAIgAAIgMAqBgQXpjl4Xc1o+vNO7LO6MLjePdP/n9yiFR6YgEEdgR+uTA7p+F377xn4b9/aQT+84DP7L8xNdPxDdbd/o6ts0sYHrYPdK69WSnpjjxbfi2KE3TpTR920DHdbdAEnZ62GItjxEHgNAdGSxL37e3g9840ff7+PWUze5d+TPE+2zu2GEVPaVwICCNG9Ixxva8kj+925NJwfXUpjO7rb0FjNi5ncX82tiXZv9zS7p7vaGrjzCdrde0JxH6DFi2P2O6hzM1a+X63Xxi055UNv4m93R9u2K9kEv7NYndHB9TJu/9zRhLdZjW+zoY9CjhSJp4WtL9jXl5xCkicC1PkpMnn0vjolM6q9NlNH3bgMd1d0AybjrYYj+dIg8BgBpyWJf/Ly9H/jGj5RNFncxvhyvOgNy7sCfJ9pnBxQej3xzAoMJ0kzM1FZrXhd0wirteLMNXyXN31FaVK+fy81f66pVJgh5UMkrskK4itm6+ak0yCqGw9/hmbn1nE6vM6subeXRbWcRvXlkYbcPSlSWqrzvy8X5m7eXPSqeqq9pCanXxQl93ezTiu14HPeH1XiM3A1yqnY1rd6fuk7pAoeph+/NMONuLuMwfFNqvvpOup2+8ePN17yb8WX7QnaWQr/+nF4XnRUQCYFAjcBAgrSc1Wm3ysCN6GRJdKtt8+WtB4v5abZaalltzDqz98ZKrPp3k8CKfqeYdXJcyMyC9BcL8OgV4Qm4reKRK276O+X9qhPgNb4JU/zgCJuWdLRXW1/H4rhPrMZi5GtlU7Wrbvc+1bWPuen3IerhuzNUk8Km/nMIvin1bvJzHqtF7zbxjR99v3dh+9Bp9O3P++IzQ3NHfmMSGEiQduP8Yvvsy9l98zycUwyqvA1C0fpewjs+QZr/7lqRHdMR3HmLDn9On8dED1L5O0T3dAvxwyzrps11Ca3YcQBB6sW6X6ym52sZ4KnaVa3+/aprr+saHui/Hr4/w+wohtzl1eg/++ebUuvNd1Lt9L3n+70b64dMpX9//n7Mhqwf5NUPgb0SpHYEeeO63DRW7oqVPePqaXkGVF8lTXmHXII0ZWtyP/WdlqpY2V0e0faRaJ6f+8W23TSUw701rQ9OucI+rS3E/voYnuP+sRqekb/e9kOQ7l9dh5GvSW7eGZGyMhaW109g6C7jVNtfvf5S7fS95/s9zI+m8tQw/vy9mE2l7mBHOwKJgrQezYx3y/KZyNvGmUjl9AYjuwzmI8XgJ91um2cyi2BCBrFKpAUl0n5PeccmSHcs5uanH3xOdtpRWV1uJHg8n2fncws2AfUnzumulnnwqTzw1NnXqrHK7X6uHjhKFzSu37h265FmecVEREy9zqNhzS7v6PE+CyhVsUFEf77jbeH1QFsiMt3LMz1xYKzj2nnlmLx01tI/OALRe34oWth0e3PVwdni2gfHUfZG3RcR+FQ0bBE3zGRXsx8QwX9ml7fMlQOXyYSz1fVrVUA9swAfMtpmqQOZW6DPhXebIR/u0P7QZ1/HrIpCxtlXic4c5DcmRqa+v7qzohrore2ui1oZ5Rn9c3o+UEJIzqaxHyoo4f1IiVFFXPa1ixDviqnr8PoLyVm1E1HPT9wXyr7soAwUqPeLov1WI+OLt+ttvNKjVZ9v1IN2ftzRn2Yp+vIOYOjNw5yPeTwT900JrQv3cwFlrO8ECGqzea7BfX1saXztMcQPfOPHQ1rJiY7A8WVAWdV33N8u5Mcmj8Bu7w/ixgUBde31Z1+bUaxCvmuxdY7nQaAdgXhBqlYCWcDJaLn5IFAECLJHzO3T+UUDXHGgFMNWXi0Qj+3cZlNglZ1g+DsCgooaXA6sjAfx29XX8G8rsa8i6+bnYL1RR+VzH0UQKTW4EJGGK1uOQp8TkZV5ddZ4/qRgXw4yG1H9NhdEX4d0diV8Vp+IuKPN0Sc9H95kgbVEh89nksXAtbIKXIlMV/2tntflHef1eUg3sn1kH4hTIYJrkyLK94ogWLU8ZGUbJ1JC3KBsc9IeYnvysr8uDrKIz6a0pQ1PPEhV57T1gF3s28WkD6d/Is5uc4Rr/rdMuzNXTltcNdNI21BHIaWoPOOoA/lcqC9FZezpu2L6w1D7umClyhhhX6ofW7fGhp7vf7pg8dhmEiavI57gUOnIoHXLJw41LQaLmviM7EcKVwluF1HOpX03LDsHIuovNOdqPXNT5cmmo/MzujrYZvEYxJGMNxFJPbKNq+9tYD2oKPtZN1cPSBiRt629+PoL2WXl3+2A8Ux6+witGcdzzj6h774+1v649uj2A9mxe1bYfb+renZ/11jdatHpXe0iJT0xyR02LijHkrU+wevPEW3GyzS2zvE8CLQnEClI84E8Ga4q0RqL8ePS+ZadHWuHl3wFzrKiNZogvSH+sstBf7sgTu0ruG0K8iN8pEci9gv2TBvweReqb6HOZgDpsZwdDX3O/VGyfJBcPukQ1sWWmYZgK8tu93FDlGXTdm6Vfy0Pe96xNemoJ8/Zab7XpxGtur5rwGqnLe3ORJa9DsJ9KYala7AT1x8G29cZqzj7Mio631r0c4/fOCeLLKvh+u6LmFopn1WTS4YVVmMbd9Wn7bfs30PaRXQZnHWdUn+hFmirT5ZJr7g2HlsPdV+r9jlReQeJNZPoTeGb0j5C66StIDVcoddBXx9nfbd+UO2TbMc9fII0pv3624XqI8P6gwR/SfTnqDYDQRrn1nh6EAJRgtQWeVZZat/O6eswYstq2crhEBDhq51+wWUsp9aJzGY8Ky+3hu3bebl6PQgWz3Reu3fUv23XHvWuGpgq9Dl98BIT1MHhd9YPtVTTMhpyM2qz+cyx/6PZtCPu4xHbPtJ4Oe+ZrQ/ut9mVTbwEztcmabfSelcr2rYJWx3E+FIMT7sPxfWHZ/Qi7sl7b5a/EaytI0EaZ5+6CzldsNmiZ5Y7AWoTHbKcfNSizb3GrsjlRo7x5YtqF7HXeDnqOq3+Qn3b1ZflaeSxD4LaeHQ9iDwcNsTkHSLq6zteRO6W6Pvu8Uy8/4TWiPO5IJES/m3szae79gMJxTd+dP8eV1Z/u4hLL8FfEv1ZjFvCv8k+pp14LRIBgSgCEYLU31CLgXxDiPXl/GI74YqWvEdQHQ2qrlyliMuUd+TXjQdXYtsyb2HcED3xYD2ziVdvi+2PUXUz+sOy4/28bV7xUogT06xzLs9kRMCs/NUzhdVilefI3M8lrZC6PmQQpLXtz/XzuDb3swnKelu0bTfqS5Bq55s9PhfXsGx9V3x/eMhbwkLahHXLVpTh8fZl264TBlC+AaNlgsfav0SU0yp2rQPZ2PK1bReewlgHn6n1FwovIP1GUvY2Hl8PIvEYGxz9S9IAPiDvzlbYQ+vE8VyngrQ/n+7HD3zjx4BdLKaL6yu41XfJ5xex7GL7G30safpW+uzTC+X6JvuYduCzSAIEIglECFJ960FzS5/M19pp9uz8+t76yipphLgs3kt5Ry97vnWstt9/xumXgV4ia2mUxwM7XusZR+YozxiWxpsD40Q8Z932bfOv6a6QWqMyK79JCfhT8ZPYD6Fjq5XL//LADuLcqJx4OP/iIF5iYmZ4QSrFVJDPxTQon2/ZJ2Wa/WGgfZ2skKb21w9E6L0AACAASURBVLF+4xOxuvCoBxKqbt+PqZXsWd93xfR7bPkS20VoYbzfzBj/Cs00Ugx623hKPQTa4M07dQA/ZPuIqRfLs70I0raBxOq29uUHqenqPhZaVp/gi+0PYvubVH/W6iKkzXj7zg58FkmAQCSBJEFq2/46miCVbZhX87JINNqKniaqPFF2yzKlvGMQpLIv5M5IBIlQoqy1yIis3TaPq6te3tRWvmpiZWhyV0ffXME2b2MOeS6hY5/wCql0D7VlrJisKLedXraOyhzLy77l1eZGTfsdH9NORFbIIDbEl2Iahl+QxvWHAfZ1wso/sWbur2P9JkQYGvpnUUapR839S1gNpQxUY8sX3y7CbM+fChCkcf4Vmrtv4J2lE9bGU+rB35bD8k4dwA/ZPkLrxPFcL4K07W6Vur39+EHaxJOyLbb9+tpFbHqx/U2qP8e017A+uwOvRRIgEEUgQpD6hJrekOoixddRRdlsfthydqEQTkYxaJ4lTXnHfg+pFmVVWq5HKu2g3D0l4Q02oq0A++8kFQGoVrxylm9jtgpz13MJHfvEBam6EuWJ1xOLa1+M1yelVHIsr7J9WwfA8ju2pvXBFZ29mCaAHB/TTkSWfxBbkgr1OR9bG8c2/WFWDmub6IRVqn2xfhM6uFHpZt+GA56MmdMjnz+OPXSp15dvlavLFVJDwJiKKVm7iC5OwJZda6Rt17EDn1sHbJf1n3NXgialHtxtOTzv1AH8kO3DWxn+B3oRpF37dPd+kIHxjR9dv8d9165+hwrSUHYJ/WnSFnTbooytffiY+l0ST4BA1wQiBKnm8EJUmQJRWCKH+juUDoqlrlTYavdbyW9e8zqWIjfb9siu35Fm5AN4mbk4Vzrhe0mDVi+0D7pBYL4uFkT34uoA7U+sGMt7AUv/CX2u87NtI58hlZ/ZxQnf79qXH8R/CCur3oY7fTMBvaLDtxv6kgF6DNsJbR/TTkSWexAb7ksx/Y2do3eXQK0/DLavI1ax9vkHf77VYveKizpfNuND9hdPy0q07ZgaqehAdVbduAOmC0Fa++4520WtvwsplKOu0+ovJFN3O8pScAzMDTa77+72T+pUJzXj8nafubanlcY3vl8NrRHnc50K0v58uls/UER84sn9e/h3TbRfnyCNZZfgL0mCNLLNeEV+J16LREAgikCUINWvBDCtomQN33DVSUcDLFfJzFcq5J/WXAzWV/JUR2Va4bP9Zn0nZLZaCwY05WBHzateLOQdwY3MaTTPX4Q+FzZAqgskx8dgbEGas/OvLke1Z+3hNh9CNWmi7iLNBqjiPtUl3dLb/QEL00hB2tkH0P7hDfelGKYhHM2z5fX+MNw+3wAs1H73tkRzfx1S3rrwDLRXP1ff1fEF173Ixu9OyMDNdQdxPUid3i4q02+BlRTCO8y/AjPMH/MNvEM4aX4QXQ8u0RuZt7NvcZVzqPYRVzPmp0P8JDzKbinifX19pE936gfKVdWigueuXtutBnq/0wgyWW+/vnYhPoXKnhB2KfUWtuLbahKns+9xF76NNEAgIxApSKuNUcx0P/KVD2LT1Y47ooPTD+PKn7jW4EBEPeG/yzu+2y56X5P+8cqjsd5wvnK3l+pQLjhokO08kiaE8hnuzF6+qIDtMW8bi3lHnAvje0fFkpEo46Z2f1/hbdzRNIKuMMOiLNmDYuXslA+ejhEIyc+lbDrVVd/qVmR9NaTqI1Xmoc/JmlarzMVglrc9cpTlFR0RXV/zymv2N+Pfxdk0EfVZ1LGpTkrb+SPHq9X6zSWvnE9Wl/aLqRt+UxHntfrnba4nMtBPObCssiuZlv/VLjqzqEe1Rbppa9Oe0kWz0PHGoIS8nXjzlq0CldGRy3qXeS4/ePtxye7sZU3bsyv6U9kKJfgQrRcvdGZtsyYm0gnyaNbNQXqML1lSb/6zvjXd1HdV7HH3h+H26YOiFqyyRqPxCuivI/1YAvMxKqgGbp8LrpzswWpbfuS2zB8GsRtjtaQP7keLI/yqX4jsR7Lgw2HtItJ0Yb02uWOo69j6CzXA0Y5UErFt/EBt4xf9JkeW99XD74C2rB9xsfcvZ/Q1VxNkNYa+csbybdk+xDf9TXR+0X92PxG+2WdfH2tqbHt0+UHWvt3jR9/v0v7Q9uvzl7JxBH0ny5snDONCw7gg79HsfUJXbeaYaPkP2ZgkfUwe6xl4HgTcBOIFqewhXmnNH/trLYSqNYKqjIza/HOeU7PYLDqeuXbFi7xSZHZMt483POD1nUXKROOShUZ2RShfz3J7k300rX++d7Rtq74yVlZH3TzGEaSmstiv+FArZI2S5FvnXtdrOrg6o61YVVODwhmnd5sPVPIXQ58rvwOZWJd/QiA9skD6nc0ofvD/X1yc09nVQX7nY806KWQPaWXySWH3zVcxeK+8afkt82EWVvlqYTU3sS253Npq/I3Z6G3I5IbxK6g2n/TZo203bLRv05U8tbPRRXvSeBT1oyq7HNSL/sI+gWTtABr1o/cjsb7k/ThUZsJzlzNNYAX2h1H2aQOoJFZ64YLsS/Sb7REt5XVX5Z/7DLK445fMRz68FeLoqeVkCE+kFF2D8K+srZf9QjZ5Kv5UH+vuR8rn5XNB7SKhEL66Dqq/8HxLoVl9p1lv8W08E40B9eBtW5F5mxh688jLH8Q3sX2Io026iOAxy3HqcZ1GGdXdxvW677qvD/ct9WQ3flCuYNctyHx1K7/7weNLT/sNbxc2v9G/ky38JeugCsFb9P9efw5sM//GfXYuRhXXlPF4vFfgDRBwE0gTpKAKAiDQmoA4U/h1c28OhLLjD9qKZ/1JjxrdOkskAALjEhATc8/nzbuNx7UKuYPAMASE0Pi6aRnMaxhTkQsIgAAIDEkAgnRI2sgLBNTkqtg2+HnrHpiLGdHVYeIWL6AGgekR8Ebvnp7JsAgEOiMgVua/bmqBFztLHQmBAAiAwP4SgCDd37qD5ftKIN96c7z5K89SWv94Nn1B9+5n9pUB7P6BBMQWvGc6N0Vo/4E0UOSfRUAcOVrRTWIMjZ/FCqUFARD4eQQgSH9enaPEYxOw3JlbNYu37K63dKVHWxrbbuQPAskExPmmAzrFFvRkgnhxPwnsOHjN6pno/EYEd9vPMsBqEAABEOibAARp34SRPgg0CGjRRjm4z+3NWSUo146DL7y8EAdnqgVVAUkQ2CMCZbTq3OiurnrZIwYwFQRAAARAAARAwE8AgtTPCE+AQC8E5Mz58okeVGhQzmUmIgV7oz/3Yg4SBYFOCehR0ce4wqrTwiAxEAABEAABEACB3ghAkPaGFgmDAAiAAAiAAAiAAAiAAAiAAAi4CECQwj9AAARAAARAAARAAARAAARAAARGIQBBOgp2ZAoCIAACIAACIAACIAACIAACIABBCh8AARAAARAAARAAARAAARAAARAYhQAE6SjYkSkIgAAIgAAIgAAIgAAIgAAIgAAEKXwABEAABEAABEAABEAABEAABEBgFAIQpKNgR6YgAAIgAAIgAAIgAAIgAAIgAAIQpPABEAABEAABEAABEAABEAABEACBUQhAkBbYd7Q+OaDr9xldbt7o/s8o9RGQ6Y5eF3NaPrzTu3xa2PvI9v4OeHeYR3ava3p5fqLrB6K77RtdTce0YQAglz0l0F3bGqsN9J7v7pXWqyU9cdu+qLdt129Oj5ha3zs1e9KaU+++kGYW3gIBEAABEACBBgEI0r0SpPlA6XhDW1bMv3drOjm4lsJ0dreltwkov9fFLxbLVIhlCFL0OvtBoLu2NVYb6D1frb8RE2GVtu36zesAUxOAU7PHC7DxQO++EG8S3gABEAABEAABK4EfKUhfFyf0dbN/K3e79Qmx/qwOBF8XdHL6QMeb7eCrpHaOr7T4dUoP9UHrQA1xX+t3IDzB2fwkjqlta3ptoO+250q/77yDXRcPSgKoDzgCCIAACIDAfhD4gYJUfKSXdLR3W0nLWftprDq6OI45ENrX+p1ah/GTOKa2rSm2gb7bHgTp1Fqq3Z6+fWF/SMBSEAABEACBaRP4cYJUbGU6fahtN5t2HeXWTWtw4eY4nq37W7/TcsKfxTHNX6fZBtLKEu59EKThrMZ+sm9fGLt8yB8EQAAEQOC7EPhRgjTblidPXO5hsJ3pDC78HMex1W/Xd2m2/Zbj53GM91c/o/g0u6nVvvOFIO2mnoZIpW9fGKIMyAMEQAAEQOAnEEgTpEU0RRXplSXe5R3d3lyROdgrR69cr2jJoRnfs9Cw/PyGHm+IVnPePvv4SDQXEW4Vcl0wqu10pt/Uv9WjY8ocOI9behTBf0ikMef0iwzKup3d0fbtigMEcfTIl2d64tCwx5u/lii7zXxms0u6fbxvlLsR4ZDP84jolNccHTcr/x3bxvl6vUwNKgwPKtuLn+Lte2J7ZHkP1rSYX5Mwz25bAEdpS20gFFr2aL8q699bv8WjKkqo3Xdj6k48u1pm3GTE4zuOeFwLLlVP72yrv+PxhQAmKn1/XbZpJ7f0L7Skf09oo8H2BZTV21zkA6HtIKZtxfra0G1A2VfN92y7oDlHGav0u7JPrP/5fMOcftXVEwWQp++ttDHub+9ub+jsa0UvZ/fBEbx3fNa+ysHxvTLaU/8OCR6XtPnLfb/wuGKyU3QD+TelgbjbvsffFmJ8wdQWyvLJXl3uLlK5Vn/z24InQAAEQAAEQMBOIF6QymiKTyxi1FUjQmzO6VSqSf5IbevijD90JyLADf+mhBt/8Bdz/rd8EF+cieS0Fxy1xxgMp4jiWF/dzNN/54EK550NkHjwsGCBKz6eLHz/qjtcbGlUIkSKVwyCVD3D6ckItyIXFiPz02aU23qEw8u7C6LPQ7rJxbG4tuVUFF63zeulnsFesn1sBovjo/MzujrYZvUi6uotG2gZ/6x10Ry0yrITl/0qmxh45XqRg5p62aP9ymCZz66APGhVixK8Yfu/Dukstz+7GkjYf0ebo096PrzJgkmJQSyzE7/p/tP0hWN+md+RjqrxMA1io+111WUH7UQ2rbg2Wi2/w76AsgbdbBTRDkoPShBSPl/TJmUGbQNavrPZMV2weLuS4Fy+FuEbzkA5bThmtdHoe1lI/jr9oDv+3pTlEP1n+JVSSkhdqsBvtf4+zzj7Tji/BZ72KmxdHmUTnPXuKcC/631P++9GWR9BvqB/ly2iWgrvpwv+ltsmn70fMjwAAiAAAiAAAg0CkYI0+8DxtHBjBbGYPa0IDTWrbJhNNQ7o4reDFTPTRoEjxKKWt3MQWc4QNwVpXg4yzHxrA5jqe3p6tQi4xTsxs8wuNu3sixPGmSjJrpuxbX0uy964jsZY9li/ShHKEXlY65TzlQNkoaibZbf6YjGIFwPuejTkcuWlyirCXi19W112305MdW/zUW31xTgJE1NWVy+e0g5Eem2E1MTagLMsZl+L8o2uBamsTnvfK78rpE0qyueznRr0GBApXbXXmt/Z26rbnqLvM/ixSHN1aLrDOsa/u/xuBHwzxI4Y/cow1fdZBKmoj+dz2w4ijLBAAARAAARAII1AlCDNPuLHxTalSpamgXr+b+Y7Mk0fy3hBKgSCuPaEp9D5Hk5tTc8kmpxCqhys1QWpGrzY7vosxHjlI55QFmcd2tNLs89eXq8rBQvSMNES7Vc2Ax12xeXhqDvXZIJqA43BnEfwFG2nvgUwtK0F1GVn7STFr932xdWN3TvT2kHfgnTgNuAT1wZfi+pDexGkNv+wRz/erRdBW3bjxLbyLZe/2iZZxb+v6NCwsyTOv1Pal61NxPc7sjXkW3MbE7Oy7/uk23ybsvc7gQdAAARAAARAIJBAhCA1naEx5aIGYL5BckeCtGFCfl6V9+vmpzXLAEZJgtRXDvkFN6yadTmwcA2aU+0LeC9B+GWvxJQ91q8cnm2t39g8BhakDbtj7U2py9R2ElO3MQN8X4/lC0QWwMC6ut3nCmmIII2tbxcrT1m8k0kibYdvRLVtX536/aM8t6jHBAhNVzvbGbKDpkg2ZAKF94fUVxZXh/SmjocY0nJbrfwkpX0lClKbL1gm1qSw/rwtj8CEVwOeBAEQAAEQAAEngQRBGrrN1DfI61iQ5gFRxLlRGczo/Cs/36kNCJMEqX07WTnmMG1h7XJg4RJ5qfYFDOAHFaShftVGkIbmMbAgbQzyHVvdjcWPqMvW7STFr1NWnGJ77tR24JtAsdjhFXYxnGLru4UgdQnKEN8YWJDKyS0Rg0CLR+cOoFdjY9vR4Nya6mlPhnft23Vj6zbGb3xtJOUbnE1IZGfl68EFA7dJ+8zC7yAAAiAAAiBQI5AgSH0rFSqHlI9h2se42KonIveqCJKdbdktB7q2LbvmM5VpZbF7qC29VPsiREzdqF4G46F+1UaQhuYxFUEaam9YXXbTTlL8OkSQhpbVVv+p7WBKgrQtg5CymOsv2DcGF6SZQJJR2otdL+Lfwlk1y1YKrsuN6cynvz1V76C1b9c1i7vUCQXfN7Weru95+++Nrc6iz5d6NCQyPMZZIAACIAACIBBHIEGQ1oIgNL6Ba1ofXHG0W9+KRTcrpP4zQm1XSLXtdLaouI5APcaIwb5zXsY6tA0eUu3zD7qsrtSLIA31qzaCNDSPsQSpWsEt68Y6CSK1h2pr/rrsrp30JUhD68ZW/6ntIETEGfKcahvw9S2GvirKN0YRpIr/joNZr3jnS34cw3a9SqO6hG/M6YkPcRTX31iu68pe9bcndUxDts+zFzoxbtetphXWllPal2+SxiLencH1lB1Zn3TA23Xn9MhxGvwXlcUNQfA0CIAACIAACBBFCFL9rjXT9S7q46sCO/gG1V0IUsfAobMV0lq5TQEdjJEcuxxYuAfN5R14li2pRvsCBl3WsX9olN2Q83OxfpUiSGPzGFiQGuqnUqeNq5Tsbc14ZZFrgB3dTlL8OuxMnvnaqHpZ7fWf1g6mIEhj/dP16fKsijUCzUX2oQML0tfFgui+dgWVuJ7kIL+eKiDAzuvihCPDmlZC/ZMb5vak+QyL4s3FE1//ZE8/ri2ntK9EQeoMOlgGN5pxwMCLp2VYVGOMqkAABEAABEAggUCUIK3e0TbjGybUXaTZoFHcr7mk2zKwgymiY2Gk6cMbMjjS76oLeV4XRa6PvWvQ7N4OmA046vfidTmwEHhdIjDFvhaC1LcKEzto1a5ZEVvxvH5ldfQQISle9uURko5B/Huj7JpXAavb//LCRTHx1eVA7cR6XU7gmTxZdF/dhIgxM2dzO/W1rcTB/hTbQDExoftul77h2yIaLwDlPbZHvApZWZmLOJeZt0m7sDTZ5GtP2TtlwCXP2fSottzldyPke+ewXbc7eDU6YRSCV0AABEAABH48gThBmn2F5TUrWoyJEiJvg9rUwt6XV6Lwb4880y13/LB45a1XS5lOdRWtmE0uPoC8TYvPD63oiOj6msQNkHLYyr+L8yzbPES9vrqyYxvnyw/eniWszNI/e1nT9uyMvuYiWIO6D5JovXihs3s+F6N9fI1bqyq/81lVvmJGXjfPeR3wxe2Ns0iFGDfcPclbLU9OxT2enm2KmnuKaw4ORMQm/rvkbWL39a1Tsfb5yutsGvqATdyrqXHMmahtdQ2WtrJH+pXZPLddob6b1WnOunZvaLnawX7F58/0m4ZeeWLiVDhX43xbOWFQFVzibNxcvmP0uVAmAXVZGTznK65J7UTUr5yAkRcY0laeKXO3UW/bSuhXrO4Z2w5keTxty5jZ9NuA9EOeNLySnW5ur7iXueiHs4JF+cYx0fIfsr6r0Q/pExKmPspWaQ7/VbaJVbpqn8uHIfQot5a0y/Zqy7w+ASIdIr9n2beNPI+ubjvKoWcZ2pY7/W5o29gDfaFKybfLyfmRwI8gAAIgAAIgEEwgXpCKpItojEqWukLy1wJSzHgAcCtWVre0+CW2XTW3dYotVqcqrKIQuXIAlQ3qP/j/Ly7O6SwXhGplVn/+7vZGCoUsUqDQB9ogTBsYiGiNjzUxqsiZRekrrVdLutZCPjYjPuqDAL0exEz0DX0pmypV5Jph18VMtV4bNjbqRRT9jm5vrvKJgPoA1JOey41MHLWtodVXA8se5VcW44x2ac8687DUnRReh7SS/lr7E4PRm69iAFutVv5NXgOhrVRsbulzqUUNZd/M/NVyNsvDpBQTvrrMdjC0aidaFqFttJww8tkX2684nDOwHZT10kwrROzoExxFXzKFNiBRrmm1fOLotGUffXl3SzdFv6mXOdA3/u2oEKONfrKyCpj9GsTQ897rek0HV2c88ci7b7jflaXhb8gdf0OsbaZSndym+V29zzZ5TrGCGlWOrF1zxy4n5bx/KX2PmEBI+m6U1sT5Qq0UUiCLIta2TXsLiwdAAARAAARAIJxAmiANT9/xZOr2rk4yRyIgMCAB+PqAsJEVCFQIiHOoXzf3HGjPAGbHgnXFE5ekJo8ArwaPfj2f4+5RuAUIgAAIgECvBCBIe8WLxEFAEIAghR+AwBgE5Jbdz1u3oBKrotYouWNYPZ08xQ6M5/PAFeDpmA1LQAAEQAAE9owABOmeVRjM3UcCEKT7WGuwec8J5Ntvj31banlb6oLuw7bd7jmSOPNFv/VM59iuG4cNT4MACIAACEQTgCCNRoYXQCCWAARpLDE8DwKtCXiuNcnS5y276y1d6dHJWmf8HRIQ54oP6BRbmb9DZaIMIAACIDB5AuMJ0tBIhpNHCANBwENAiyxsjJAMgCAAAj0Q0KLEyuBuZxzcrTxIuuMgQy8vpAXI68GEPUqyjBKeG42rXvao9mAqCIAACOw3gREEqSsKLSL57bc7wfoqAVuEZM+9hcAIAiDQGYFmlFkRqJejtbuiW3eW+/4kJK4/mvPVYllger5mh0MHW2J/70+hYCkIgAAIgMBeEBhBkO4FFxgJAiAAAiAAAiAAAiAAAiAAAiDQMwEI0p4BI3kQAAEQAAEQAAEQAAEQAAEQAAEzAQhSeAYIgAAIgAAIgAAIgAAIgAAIgMAoBCBIR8GOTEEABEAABEAABEAABEAABEAABCBI4QMgAAIgAAIgAAIgAAIgAAIgAAKjEIAgHQU7MgUBEAABEAABEAABEAABEAABEIAghQ+AAAiAAAiAAAiAAAiAAAiAAAiMQgCCdBTsyBQEQAAEQAAEQAAEQAAEQAAEQACCFD4AAiAAAiAAAiAAAiAAAiAAAiAwCgEI0lGwI1MQAAEQAAEQAAEQAAEQAAEQAAEIUvgACIAACIAACIAACIAACIAACIDAKAQgSEfBjkxBAARAAARAAARAAARAAARAAAQgSOEDIAACIAACIAACIAACIAACIAACoxCAIB0FOzIFARAAARAAARAAARAAARAAARCAIIUPgAAIgAAIgAAIgAAIgAAIgAAIjEIAgnQU7MgUBEAABEAABEAABEAABEAABEAAghQ+AAIgAAIgAAIgAAIgAAIgAAIgMAoBCNJRsCNTEAABEAABEAABEAABEAABEAABCFL4AAiAAAiAAAiAAAiAAAiAAAiAwCgEIEhHwY5MQQAEQAAEQAAEQAAEQAAEQAAEIEjhAyAAAiAAAiAAAiAAAiAAAiAAAqMQgCAdBTsyBQEQAAEQAAEQAAEQAAEQAAEQgCCFD4AACIAACIAACIAACIAACIAACIxCAIJ0FOzIFARAAARAAARAAARAAARAAARAAIIUPgACIAACIAACIAACIAACIAACIDAKAQjSUbAjUxAAARAAARAAARAAARAAARAAAQhS+AAIgAAIgAAIgAAIgAAIgAAIgMAoBCBIR8E+TKa73Y62Ly/0/PlEHx8X9Ph2Rb+HyRq5gAAIgAAIgAAIgAAIgAAIgICXAASpF9F+PrBbn9DB9Xth/OxuS29Xv2m3XtD8+oGyX2Z0uXmk+z+QqftZy7AaBEAABEAABEAABEAABPabAATpftef1/rXxS86fSAWnn/p/Jn/++OSNo/3JDTo7nVN89Nr8SO93f/xpoUHQAAEQAAEQAAEQAAEQAAEQKBLAhCkXdKcXFo7Wp8c0PX7Jf3n3Qf9E2vPu+0b8UJp+fe6oF+sWIVghSadXAXCIBAAARAAARAAARAAARD41gQgSL9z9e7WdHJwTe+X/0qXD/+THmZ3tG2cI32lxa9Ty2/fGQ7KBgIgAAIgAAIgAAIgAAIgMDYBCNKxa6DH/NU50st/vaSH/yn37dJfwzJotq131lw97dE2JA0CIAACIAACIAACIAACIAACEKTf1gfK7br/evlAQo+qwEb1Iivhavv92yJCwUAABEAABEAABEAABEAABEYlAEE6Kv6OMt+90nq1pOuHPHauCFJ085Vv1/1Puvv4Jz5HmgU2Mp0TLSLyWlZQO7ISyYDA8AR42/p6e0ZXiCQ9PPsBchSB2V4Orqrn4gfIF1mAAAiAAAiAAAh0RwCCtDuWI6S0o9f1nE5Zbc7uNvR49UfeMyoE5vzpnd6lCN3S0VIENgoQpMYzpiMUC1mCQBcExBnqOeH+3S5YTjYNsRNEVjJE6WTrCIaBAAiAAAiAgJsABOneegiL0cVBcaVLdeUzD1TE94zebW/p84CDFoWUE4I0hBKe2QsC3AZOnun8ja842gt7YWQyATnx8Em3qOtkhHgRBEAABEAABMYkAEE6Jv0Weav7Rc3nPvXIuYe0ElF0OS/vll0I0hY1glenREC0j+XRlt4qdxxNyULY0iUBeezg89YYtK3LfJAWCIAACIAACIBA9wQgSLtn2n+K+d2hvE/XcI0LZ5//nolVyu8iDRCkOEPaf90hh/4JyOuOeMXsL1ZH+4c9lRzEJNySjur3LPds3o772he6iT6jnPpez8VB8iAAAiAAAiAwCgEI0lGwt8lURc+1XdPS/N29mir0q7j2xR6Ft421eBcEgglIIflEF3VRoSZgREIBkybSn8l8xVGwLZUHxxE7abZ+l7fUsQNRnrArqbqvdzfL3XpBKxaj94mr8G3fS7vqKAAAEwVJREFU/y41jXKAAAiAAAiAAATpvvmAHLRf07tldbSImKv97o6iqwSsfQV13xDB3j0kUIjOmvgQ/r46pDdxSDr3fT4Ybd+Kmz9zbIkonUIG9/SmUGvzTtYnPV1k9Sz7r6cL824QPRvpQx/D3KfMeZ08n2d+2eLvdXFCz+dvxujnLZLFqyAAAiAAAiCwVwQgSPequthYNXA3rRTxb4vlBz1weN3K2VKniNXPm17JKL34A4FxCDRXInevr0R/sujR4s8nTrLJl2PadLVdV7QpOic6HX476Dh1MIVca34QugU7ZMKii+KF2hOSl21XQMi7eAYEQAAEQAAEvgkBCNJ9q8jK+VBNPvLAZsErSee8WfH0IVtlOuOy/c4fyQbq1Fw9yNOzBTzaNzywd58JBGyNFf66PLKsluWr/WQ5Wx2Nhu1ZEN3f0yjnE6PN/UYvyFXpj6weebmU5vQYEKBqmMm1rrcGd53eN3IDFAUEQAAEQOCHEIAg3beKVquddEmbLQdtYcEpAmSsvsRZJhXAiH/bHNFX5cJ4tTVXf29N81NWqbza2nbr2fAYxbU3c1o+8H2rMvMZzS5v6ZG30MWt8qakk71zynnLnJlfVL47fv9lRcunB3lXbPVcZLmF2sq0r2jIwq7tCz0/P9EHl82/7bUlh0YB/YJU3rFrEyeqbTjOmYpze/Nr5p77zOXmkbdLmj3mNVejf8hvV1/+L9r2fJn7iXS2GV3e2m2m6DpsYXl0XjH+Up4hNUcSN9ntO19vL2uwX3i3hMeUMbdnyK3GIsuoekvpH2UmkX1k7PMii/z4SqNa9W3/5v4UE7At2j1eBQEQAIEeCECQ9gC17yTlIJWjEMlB9YwF5mMmTMUgQJy9un63BzyqizjXgLzvcqSn7xBtgkfwfYQp6Yj7LcU1OnfM/Yq5x63KFQNftvPu9obODn4Xq9iSh3WQpdEKCOwTzVassPNdjkTZlm/x5x60teNgts8n/ESeX3TDq2ZGCenazs4ZZqtuZXvZvTomZORW3fv8bJ/PrmjaQS+oXQ16G1Vt33iONroOg8wwPxSdV7y/qGBr7InBW7DVOzGCI8YvsvRt9sSXMYObi+8+2nW99qLqLaV/zMsT1Uemcsvp8TlcNTl4yefLG0Gmij6VJ3PubunmjCct42YtWzQUvAoCIAACIBBCAII0hBKemRSB7BwhnxPUhPjrmlcsrzMhFRKJVTyWko4xwE3Ayly2YnDgjWYsVwD5PkXjiqt3daaLaipXplyD+lgOpbgw2FgMxN3Cr1yxtGkksS29dn46fzRuy7p9IB4jdFrVhuM8pD/IUlgdtrKveDksrxR/eT7/KycE9O27Ph2hAriFrqrG+YV7S3BsGUv+2u6Vrs4+eyvXX28p/aOUo1K0G4KTiWB8BtEd+3xTY2ft3nwNmmA7p6fjlN0zXoh4AARAAARAoCMCEKQdgUQyQxEQA4wVHRpWQeNWVBLSsQaH8q1Mh16tw+mst3R1ZYncKVcAKXi1KK1GAqIut+DgtskuSMXgeHXojkZqXx1zCYmQc4cjrJDazoqriRQegNvFcUAdpjmH4a2AvGL9pRE0KJy/O6J43fxIv3CtwMeWsWZKyspuuyr01VtC/5jN8lmiwFv6yNjnDYW2Xlsm0p7zNVKPb5R4M087xHgbBEAABEAgmAAEaTAqPDgNAq8s2g5YtBnWSvTztd6Vhvh0XINd512unq2koVyHCX7iG6jmK8tiRcK62pF6p61FeIgrNviMtLgCRP5VttMqeg67Q7by1ld0KpUSLohC69L7nLLZcF7YvW1UqoJ8675v27XXioAH/HnFt5tMKH6o631iJmIc3BqFifQL1+prfBmr1sSu7AZUjOcRX73F94+ZHs1XKwP7htjnm4VSK73VFVm504SvCnq0be9vDxApgAAIgAAIdEgAgrRDmEhqbAJqcBJ+5sxssSmdcgBn2g5ouv81V09ycP3AQZdE5OP0mfrMJl4etd5ZWAa3sm9s9N976BuopnLwjY+rAUrU6l/BtfK6qX7tdjsnC7RBtH2b5wiCVJ0rFOXmwf1WBesKutrEV4cZzEn7S+UsdUTbiRCksX5hX8XsoE10NGkV3gOH+Uh4/yg9qpgICesjY583WNNYYc236F6ERGUOp4UnQQAEQAAE+iUAQdovX6Q+JIGgs5wBBhnT8Zy5UgPKegCWYqDJV1icf1Yips4u7/isaODdryGrRB6xIsTo6YPvjk7fQDWRQwD2do/Y7PKVx72q086mlm8XPsXpiGBdt0e0XD7RsSvKbiY1w1ZIv6O/2Nphoyr8jKqrdwcOph20iQgh3dKr8tf95bfmY+1nYznEPt+0qLKyfPaCLbrdOAdSAQEQAIHBCUCQDo58vzM0r1jZyxQaXKQTKl3dqWpMJ23wVJxrzaPqXslwyGWAI3MgjiaN4O26FpFhDd4SPVBP49BJ/ToT6UCQ9nWdTpvCi+3KKqI2r7JfbtznaLOsIsTGd/OXPgSp9ItDWsmdDqZt0B20CY/d3fe7ET5S919rPxvLIfb5uiHaCuvljN4/eLItOMJ6m0aJd0EABEAABLomAEHaNVGkNxKBfHByvKG/IjRn8p8lHW0LoTGYjHFAaT7flJlWDsb8ot2/XbdS3CIaL1+BwAI4XIwGiJkkDsmVEfGibXBb/rs3sSkK0tp9juK+Xb8ojRQb38lfggVprF84BGkXbSLYbq8XBz4Q6SNFqo5+NpZD7PMNPdq8h3SwKNiBlPEYCIAACIBAGAEI0jBOeGrqBEK2tIaUwZpOymy+S5BqW0V9QiilbPnKGomVA17WCT+/6huopnAIAd/2Gb8gtQ1W7ed/29rU9v2sLp4utvR2tuV7YnmFrrjZyH6WOGqFVJn4XfwlWNh5/Ji5VP1i3BXStp7UfN/Xzi05Ovui2L4h9vmqTfqW6u3RMrv6pfVZ/e5JI0UQAAEQAAE/AQhSPyM80ROB7rahRa4gWsvjSsc9eDKLGk+QpcCowMHbdWvlSovc6RuopnDoyYEqydrs9pWn+zOkXfl18/7Nsiy8cdRx/Y+/zKYa+Rb+EnwW08+oeoaU8uBk8Vt2gyY8goV0V23JX/5mTr5+NrZviH2+alE9KFV5PEJssQ48m98VTqQDAiAAAiDQigAEaSt8w73869evwTL7+/fvYHm1z0hbRUoPYctm+NIJjAhZue7AvUJa3NnnFBdZGsUVGKHA1Dmvy0t6ePjocIU0hUOo0W2esw+wfdFUfb+3sSr53YBzevat3gli47v4S7Ag9d8NXPULcgQ16qBNRNid7FNBEzi21H39o3gvlkPs87ptpr5V24ZtuHamG25IBQRAAARAoA8CEKR9UP3GaXa1+tMVIhE5dnnUPsR/SDquFSSzqPEIA+ul8BodOVCNEZT8br798njTwxlSMezM7xo0CaIxxZ0tb9ddh0nbW7tyXkc6ymbneWXroDtSkH4nfymiWvvPksf6hf3alw7ahMfu7vvdOB8J6R+lJI3sG2KfL5qMTcD7zqUO0HaRBQiAAAiAQDwBCNJ4ZnhjIgTk5eeft/RmCmK029Hu92+y38hZFiI4HauAVIO75n2Jzm2QAXdKNrdteuA7o6ZyFMrtPclAv9a/gIFqAochXMbK2in881UV3zneIQqg5eEUpN7rjQLqUOX1zfwlattxpF+EtOX3hh/Z+wbdpaLs7sQXw30kuH/MFCmdHFxTMIfY5/OyOye+iu3PEffXdsIUiYAACIAACKQSgCBNJYf3RiWgBkmPLEbr+mr3uqb586FZqNasjk0nGwjVBjpOgWA/R5ql5T8LKIPahGxHHuReyQxgPIcB3MWxymSNNNzVVUFdF8/lU16bA8XGN/QX1yqmqYqi/MKzitmmTcTa3d7dwnwktn9M6RviuXmOQhT9k7DG1b+2p4gUQAAEQAAEuiEAQdoNR6QyIIGQ7WuVrY7FNq6qkIxOJ5NiWXATtRKye6U1Rz+9JkcgDW0VYPN4JVco1UDYeYWHfO+JLrZvFKRHecC8+rqhe8fDYuvd87njLkvOc8ErHOK+Rfd1NAkc+vYR54qXGoDzADVfJZYTF6fXIkpN0ORF3+bX0xd1dcphdWd3G3q8yiZegmwOrMPdN/QXJW4u/4Xo4d856irf/7t5dO0KiPEL32p6apvQbPjLtg7haAE+ktY/pvSRMdz4Duf1nE5lRN1LPht/b+gb9eBfoiPj5x5v+LmQ/TJDwEceIAACIAACdQIQpPCJvSIgBtEHp0Iuuf5qs+IGQZqUTpElD3gWc7qWd3DMeLxzS6aV2oqFLFz1azv8A+VctD5dDBQxsjaIK4x3bXtL4NCrt/kG9jyY5Xpbcr1lt6eIOz0f5V2tU/0TfjpfPtB7ft0LzdjmW5vNKXWYWvKUvPr2l9wmnhz6j+Mn+mch5mfEde2LuhruF0G7GmL7BjXJNUggnrB6a9c/Cp+KrWv/83aBrPX32hnSpmdjC29qa8d7IAACINA3AQjSvgkjfRAAgcEIWLdgDmYBMhqPgCkiNf/byRfddHUNSC54jjeue2AjCUTuhIhMHY+DAAiAAAiAwOQJQJBOvoraG7jjAD/blxd6/nyij48LeuxqcNbeNKQAAt0S6EMwdGshUuuLgCkitYgg/Hze6Zbs1HuBbcWWkygcnO2vKThbX6yQLgiAAAiAAAhMiAAE6YQqow9T6tuc3OcC+7AAaYLAsAS6FgzDWo/cUgk06l2ck5x/0vlb1+cyxUrsko4Cz3a7y9NlWqnk8B4IgAAIgAAIjEsAgnRc/oPlPnwUx8GKhoxAoEpArpJ+0u1QAWLAfwIEdGEnzoSu6PnonG7yYFCdG9jRyqs3yFjnhiNBEAABEAABEJgeAQjS6dVJDxb5gr30kCWSBIERCYgJmOVR4HU5I9qJrDsi0JFAjLFmt+ao1uSOau1Kr+37MbbiWRAAARAAARCYMgEI0inXTle22e40FIM4viYk6I7LrmxBOiAwCAERzIa3VT6GXZkziEnIpCcCoq6fe9ia6zdXXMOzorPoSM3yyh0hZicc4dlfejwBAiAAAiAAAt0QgCDthuOkU1HnSPW7OeV1EqcfwXdcTrqAMA4ETATERMycEMTrW3uH2P0hKznort5vjQKFAwEQAAEQAIE9JQBBuqcVF252fbtudufeqbhDc+a7ny88FzwJApMkwKJ0vT2jK6xETbJ62holVihfDq4gRtuCxPsgAAIgAAIgMCIBCNIR4Xee9e6V1qslXQuxyX8zvmj97eaLA7xc0zv/94aWmRCt/w1yIXvnpUWCIAACIAACIAACIAACIAACe04AgnTPKzAzn1c917zqef3Oi54beswjS4qtuvOnd3pnDVps11XnSWlGd51cW/AtAKIQIAACIAACIAACIAACIAACIxCAIB0BerdZii24B7zyqYnOIgNxFcIpPWjis7iXFNt1u60GpAYCIAACIAACIAACIAACIBBNAII0Gtm0XlD3i87uTFdc5IK0EJ/qPKk4PoorMaZVk7AGBEAABEAABEAABEAABH4eAQjSfa5zjpT7SyyN2lY7898L8Yntuvtc27AdBEAABEAABEAABEAABL4dAQjSva1StdppOwva/L3YrosgRntb6zAcBEAABEAABEAABEAABL4TAQjSfa1NtdppWR1tnhUtt+vq95Hua/FhNwiAAAiAAAiAAAiAAAiAwP4TgCDd1zpU23VNq53822L5QQ8cXre5XfeSNn/v6c++lht2gwAIgAAIgAAIgAAIgAAIfBsCEKT7WpX186GqHLxyulgd0jmdcuTdbDvvmfjt5YQO+FoYvv+F/t7/IXGh/PbPFYTpvtY/7AYBEAABEAABEAABEACBb0AAgnRfK7EIUMQrnlte8fzNt5GySF193dD9FdH65ICu3/m3zRF9HVzR4epXKVC36jl+CX8gAAIgAAIgAAIgAAIgAAIgMBIBCNKRwHeRrRCgc46yy+ueHGmXxedjJkxZmuaCtAx49Lo4YUHKT/Jzd7c3dJU9iD8QAAEQAAEQAAEQAAEQAAEQGI0ABOlo6JExCIAACIAACIAACIAACIAACPxsAhCkP7v+UXoQAAEQAAEQAAEQAAEQAAEQGI0ABOlo6JExCIAACIAACIAACIAACIAACPxsAhCkP7v+UXoQAAEQAAEQAAEQAAEQAAEQGI0ABOlo6JExCIAACIAACIAACIAACIAACPxsAhCkP7v+UXoQAAEQAAEQAAEQAAEQAAEQGI0ABOlo6JExCIAACIAACIAACIAACIAACPxsAhCkP7v+UXoQAAEQAAEQAAEQAAEQAAEQGI0ABOlo6JExCIAACIAACIAACIAACIAACPxsAhCkP7v+UXoQAAEQAAEQAAEQAAEQAAEQGI0ABOlo6JExCIAACIAACIAACIAACIAACPxsAhCkP7v+UXoQAAEQAAEQAAEQAAEQAAEQGI0ABOlo6JExCIAACIAACIAACIAACIAACPxsAhCkP7v+UXoQAAEQAAEQAAEQAAEQAAEQGI3A/weZ4PZY2u9uCAAAAABJRU5ErkJggg==)"
      ],
      "metadata": {
        "id": "4BJOy8UsNJ0L"
      }
    },
    {
      "cell_type": "markdown",
      "source": [
        "Now, to solve this equation, \n",
        "\n",
        "\n",
        "1.   Firstly, we first need to rearrange the equation in the form:\n",
        "$dy/\n",
        "dx\n",
        "= f(x,y)$ . But in the problem above, it won't be required since the given equation is already in the desired form!\n",
        "\n",
        "2. Upon rearranging, the right hand side of the equation will be input through the \"*odeint*\" function. That is, we will be defining the function as $2.2067 \\times 10^{-12}(\\theta^{4}-81\\times 10^{8})$\n",
        "3. I am using the \"*np.linspace()*\" to generate my input, which is, from 0 second to 480 second. The reason I chose 480 is not completely arbitrary. I want to know the value of $\\theta$ at 480 seconds. However, you might be wondering, what if, I take only \"480\" as my input! Yes I can take only 480 as well; along with some random number(remember to not take a single-element list).\n",
        "\n",
        "Let's solve it now!\n",
        "\n"
      ],
      "metadata": {
        "id": "uhhsAll48Y_P"
      }
    },
    {
      "cell_type": "markdown",
      "source": [
        "**Defining the function** (You can define either with \"*lambda function*\" or with python's by default function method.)"
      ],
      "metadata": {
        "id": "3-R04040AvJg"
      }
    },
    {
      "cell_type": "code",
      "source": [
        "dtheta_dt= lambda t,theta: -2.2067e-12*(theta**4-81e8)\n",
        "# or\n",
        "def dtheta_dt(t,theta):\n",
        "  return -2.2067e-12*(theta**4-81e8)"
      ],
      "metadata": {
        "id": "sIDSQNhbMbGV"
      },
      "execution_count": 3,
      "outputs": []
    },
    {
      "cell_type": "markdown",
      "source": [
        "**Taking the input: ** Please refer to [np.linspace](https://numpy.org/doc/stable/reference/generated/numpy.linspace.html) and see how it works. I am naming my input variable as \"step\", you can name it as \"t_val\"/\"independent_var\", or whatever you like. "
      ],
      "metadata": {
        "id": "61HVFhXVDmCX"
      }
    },
    {
      "cell_type": "code",
      "source": [
        "step=np.linspace(0,480,480)"
      ],
      "metadata": {
        "id": "f74d8zv_A0KV"
      },
      "execution_count": 4,
      "outputs": []
    },
    {
      "cell_type": "markdown",
      "source": [
        "**Solving the equation:** We will be using \"*odeint*\". Refer to \"*[odeint](https://docs.scipy.org/doc/scipy/reference/generated/scipy.integrate.odeint.html)*\"\n",
        "\n",
        "In the *odeint* function, you might see a parameter, called, \"*tfirst*\". For the odeint, \"*y*\" represents the dependent variable and \"*t*\" represents the independent variable, and \"*y0*\" represents initial boundary condition. You would notice, while I was defining the function, I wrote \"*t*\"(the independent variable) first and then \"*Θ*\". Therefore, by saying \"*tfirst=True*\", I am letting the function know that, \"*t*\" is the independent and \"*theta*\" is dependent variable. If you do the opposite, meaning, if you write, \"*def dtheta_dt(theta,t):*\", then you would have written \"*tfirst=False*\""
      ],
      "metadata": {
        "id": "RSTHCJX-ELS-"
      }
    },
    {
      "cell_type": "code",
      "source": [
        "solve1=odeint(dtheta_dt,y0=0, t=step, tfirst=True)\n",
        "solve1.shape"
      ],
      "metadata": {
        "colab": {
          "base_uri": "https://localhost:8080/"
        },
        "id": "Z3ppumpkEkUm",
        "outputId": "abbc8874-a2a5-4c96-d525-a6a117d6f479"
      },
      "execution_count": 6,
      "outputs": [
        {
          "output_type": "execute_result",
          "data": {
            "text/plain": [
              "(480, 1)"
            ]
          },
          "metadata": {},
          "execution_count": 6
        }
      ]
    },
    {
      "cell_type": "markdown",
      "source": [
        "As you can see, the shape of the *solve1* is of (480x1), meaning, it has 480 rows and 1 column. Which is understandable- since, I have taken 480 number of values in the input, and each *t* value returned its corresponding $\\theta$ values, hence, 480 rows and 1 column. If you are still confused how we got to 480 values, please run a cell writing \"*step.shape*\" and how *np.linspace* works."
      ],
      "metadata": {
        "id": "l_WN65dzFuSW"
      }
    },
    {
      "cell_type": "markdown",
      "source": [
        "# Problem 2\n",
        "\n",
        "Consider the equation of a freely falling object\n",
        "$dv/\n",
        "dt\n",
        "= g – bv^2$\n",
        "1. Solve the differential equation where Take $b = 1$ and $g = 10$. Initial condition: $v(0)=0$ "
      ],
      "metadata": {
        "id": "ZY2mRWYQGsXn"
      }
    },
    {
      "cell_type": "markdown",
      "source": [
        "**Method 1:**"
      ],
      "metadata": {
        "id": "i8D4XFQaG2kG"
      }
    },
    {
      "cell_type": "code",
      "source": [
        "def dvdt(t,v):\n",
        "  return 10-1*v**2\n",
        "step= np.linspace(0,100,100)\n",
        "solve3= odeint(dvdt,y0=0,t=step,tfirst=True)"
      ],
      "metadata": {
        "id": "X_Hr0YH6HDx3"
      },
      "execution_count": 7,
      "outputs": []
    },
    {
      "cell_type": "markdown",
      "source": [
        "**Method 2:**"
      ],
      "metadata": {
        "id": "wxwsrqdDHGtv"
      }
    },
    {
      "cell_type": "code",
      "source": [
        "def dvdt(t,v,g,b):\n",
        "  return g-b*v**2\n",
        "step= np.linspace(0,100,100)\n",
        "solve3= odeint(dvdt,y0=0,t=step,args=(10,1), tfirst=True)"
      ],
      "metadata": {
        "id": "ux5DJ8MaHFsW"
      },
      "execution_count": 8,
      "outputs": []
    },
    {
      "cell_type": "markdown",
      "source": [
        "**Differences between the method:** The only difference these two methods have is in the first method, I have substituted the value of \"b\" and \"g\" while I was defining the function. On the contrary, in the second method, I did not substituted the values while defining the function, rather used an extra parameter in the \"*odeint*\" function, called, \"args()\". There I have written 10 and 1 respectively since while defining the function, \"g\" preceeds \"b\"."
      ],
      "metadata": {
        "id": "oqXJMB8uLkQ3"
      }
    },
    {
      "cell_type": "markdown",
      "source": [
        "**QUESTION2:**\n",
        "\n",
        "2. Solve the differential equation when $b$, i.e $b = 1,$ $b = 2,$ $b = 3$, $b = -4$, and $b = -2$. Initial condition: $v(0)=0$ "
      ],
      "metadata": {
        "id": "StID8YFtON0O"
      }
    },
    {
      "cell_type": "markdown",
      "source": [
        "# Solve to the Q(2_2)"
      ],
      "metadata": {
        "id": "xoz-XwbyI6Do"
      }
    },
    {
      "cell_type": "code",
      "source": [
        "#Defining the Function\n",
        "def dvdt(t,v,g,b):\n",
        "  return g-b*v**2\n",
        "#Creating a matrix beforehand, where I would replace \"0\" with the values obtained by \"odeint\" function.\n",
        "result=np.zeros((5,100))"
      ],
      "metadata": {
        "id": "Un-FHTUNZX91"
      },
      "execution_count": 9,
      "outputs": []
    },
    {
      "cell_type": "markdown",
      "source": [
        "**How do I know the size of the matrix?:** As you know from Q(2_1), we have obtained an output of (100x1) matrix. Since, I have taken an input containing 100 values, I have obtained each corresponding \"v\". But interestingly, that was for only one \"b\" value. In this problem, we are tasked to solve the equation for five \"b\" values. Meaning, you will be solving the same equation considering b=-4, b=-2, b=1, b=2, b=3. Meaning, you will be obtaining 100 values for each b values. The matrix could be demonstrated using the checker board below:\n",
        "\n",
        "![image.png](data:image/png;base64,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)"
      ],
      "metadata": {
        "id": "77G-XrP3QDjY"
      }
    },
    {
      "cell_type": "code",
      "source": [
        "step= np.linspace(0,100,100)\n",
        "b_1=np.array([-4,-2,1,2,3])\n",
        "for i in range(len(b_1)):\n",
        "  solve3= odeint(dvdt,y0=0,t=step,args=(10,b_1[i]), tfirst=True)\n",
        "  result[i,]=solve3.T\n",
        "result"
      ],
      "metadata": {
        "id": "0qdvqNtZQC4C"
      },
      "execution_count": null,
      "outputs": []
    },
    {
      "cell_type": "markdown",
      "source": [
        "**Explanation:** You might notice I have transposed the matrix while saving it to the result matrix- \"*result[i,]=solve3.T*\". It is not mandatory at all. If you do not transpose the matrix, then your result matrix will be of (100x5) size and you would be required to declare the *result* matrix as: \"*result=np.zeros((100,5))*\" and store the value to the matrix as: *result[ , i]=solve3*"
      ],
      "metadata": {
        "id": "QjNagzZ5W6Uo"
      }
    },
    {
      "cell_type": "markdown",
      "source": [
        "# Symbolic Solution\n",
        "The following part is not included in the syllabus- so do not get worked up on this. However, interested ones can take a look. Here, I manually solved the differential equation using sympy and determined the value at a certain \"t\", that is t=100, when b=1 and g=10. "
      ],
      "metadata": {
        "id": "F2xknQLonTNI"
      }
    },
    {
      "cell_type": "code",
      "source": [
        "#Imported sympy library\n",
        "import sympy as sp\n",
        "from sympy import *\n",
        "#defining the symbols\n",
        "v,t,g,b=sp.symbols('v,t,g,b')"
      ],
      "metadata": {
        "id": "dl9CR7MrEp-i",
        "colab": {
          "base_uri": "https://localhost:8080/"
        },
        "outputId": "e8e093ee-9812-4c4b-db16-ec33fcd7d353"
      },
      "execution_count": 10,
      "outputs": [
        {
          "output_type": "execute_result",
          "data": {
            "text/plain": [
              "[3.1622776601683795]"
            ]
          },
          "metadata": {},
          "execution_count": 10
        }
      ]
    },
    {
      "cell_type": "markdown",
      "source": [
        "A bit of rearraning yields: $dv/\n",
        "g – bv^2$\n",
        "= $dt$\n",
        "\n",
        "So, I manually integrate the left hand side and I knew, upon integrating the right hand side would be \"t\". So I formed and equation using \"*sp.Eq()*\". Then, I solved the equation, considering \"*v*\" is a variable and the rest of the symbols, i.e., b,g,t are constants. the solution for \"*v*\" is stored in *expr7*, I, then, \"lambdify-d\" the *expr7* to make it a numeric expression so that it becomes easier to substitute the value of \"b,g, and t\". You might want to see what the solve for v, that is, expr7 looks like. You can use \"pprint(expr7)\" to check it out. \n",
        "Lastly, I substituted the value of b,g, and t which yields almost the same result as the numerical one! "
      ],
      "metadata": {
        "id": "GMG0EECObLeg"
      }
    },
    {
      "cell_type": "code",
      "source": [
        "expr5= (1/(g-b*v**2))\n",
        "solve5= sp.integrate(expr5,v)\n",
        "expr6=sp.Eq(solve5,t)\n",
        "expr7=sp.solve(expr6,v)\n",
        "expr8=sp.lambdify((b,g,t),expr7)\n",
        "expr8(1,10,100)"
      ],
      "metadata": {
        "id": "z3VYawxsbKuf"
      },
      "execution_count": null,
      "outputs": []
    }
  ]
}